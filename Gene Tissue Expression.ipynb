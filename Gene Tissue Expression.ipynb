{
 "cells": [
  {
   "cell_type": "markdown",
   "id": "38a26621-499a-4fb2-b4b8-cfe90dc2c8d4",
   "metadata": {},
   "source": [
    "# Linear Regression Analysis of Gene Expression and Sex"
   ]
  },
  {
   "cell_type": "markdown",
   "id": "84b34237-cf9c-4207-8ec3-6481b9cd33fd",
   "metadata": {},
   "source": [
    "This project involves working with three data frames: `Adipose_subcutaneous.csv`, `gencode26.csv`, and `GTEx_phenotypes.csv`, which contain information on adipose tissue samples.\n",
    "\n",
    "The goal is to perform a linear regression analysis on a specific gene to investigate whether its expression levels are associated with sex. We will focus on calculating key metrics such as the p-value and beta (effect size) to assess the strength and significance of this association."
   ]
  },
  {
   "cell_type": "markdown",
   "id": "f4975d7e-4636-4cfa-abc4-80ef17bfea9c",
   "metadata": {},
   "source": [
    "**Model Assumptions**:\n",
    "\n",
    "Linear regression models make several assumptions:\n",
    "* Linearity: The relationship between the independent variable (sex) and the dependent variable (gene expression) is linear.\n",
    "* Independence: The observations are independent of each other.\n",
    "* Homoscedasticity: The variance of the residuals (errors) is constant across all values of the independent variable.   \n",
    "* Normality: The residuals are normally distributed.  \n",
    "\n",
    "**P-value and Beta**:\n",
    "* P-value: This indicates the statistical significance of the relationship between sex and gene expression. A lower p-value suggests a stronger association.\n",
    "* Beta (effect size): This represents the magnitude and direction of the effect of sex on gene expression. A positive beta indicates that higher expression levels are associated with males, while a negative beta indicates higher expression levels are associated with females."
   ]
  },
  {
   "cell_type": "markdown",
   "id": "5ce66355-110c-4a1f-bcfe-09d96c655803",
   "metadata": {},
   "source": [
    "---"
   ]
  },
  {
   "cell_type": "markdown",
   "id": "83942a34-efa1-4ff8-a517-ed7a55aaa1c6",
   "metadata": {},
   "source": [
    "#### Import relevant libraries and modules"
   ]
  },
  {
   "cell_type": "code",
   "execution_count": 7,
   "id": "d43a4e83-2863-4b38-805d-7b0aeba72d4e",
   "metadata": {},
   "outputs": [],
   "source": [
    "# Data manipulation and analysis\n",
    "import pandas as pd\n",
    "import numpy as np\n",
    "\n",
    "# Linear regression and statistical models\n",
    "import statsmodels.api as sm\n",
    "from statsmodels.formula.api import ols\n",
    "\n",
    "# For visualizing regression results (if needed)\n",
    "import matplotlib.pyplot as plt\n",
    "import seaborn as sns\n",
    "\n",
    "# For working with any potential categorical variables\n",
    "from sklearn.preprocessing import LabelEncoder"
   ]
  },
  {
   "cell_type": "markdown",
   "id": "4d3107a7-2f3d-4964-b46e-7a46dd8ec0d1",
   "metadata": {},
   "source": [
    "#### Load the datasets"
   ]
  },
  {
   "cell_type": "code",
   "execution_count": 9,
   "id": "b79e163c-0686-438f-90d8-c1b51b163223",
   "metadata": {},
   "outputs": [],
   "source": [
    "# Load the data\n",
    "adipose = pd.read_csv(\"Adipose_subcutaneous.csv\")\n",
    "gencode = pd.read_csv(\"gencode26.csv\")\n",
    "phenotypes = pd.read_csv(\"GTEx_phenotypes.csv\")"
   ]
  },
  {
   "cell_type": "markdown",
   "id": "45bd68f5-4d79-4164-9a33-4abed269231e",
   "metadata": {},
   "source": [
    "### Data exploration  \n",
    "---\n",
    "**1.**  `Adipose _subcutaneous.csv`"
   ]
  },
  {
   "cell_type": "code",
   "execution_count": 11,
   "id": "c2e63537-bbb9-408a-a3c5-c45c255897f0",
   "metadata": {},
   "outputs": [
    {
     "data": {
      "text/html": [
       "<div>\n",
       "<style scoped>\n",
       "    .dataframe tbody tr th:only-of-type {\n",
       "        vertical-align: middle;\n",
       "    }\n",
       "\n",
       "    .dataframe tbody tr th {\n",
       "        vertical-align: top;\n",
       "    }\n",
       "\n",
       "    .dataframe thead th {\n",
       "        text-align: right;\n",
       "    }\n",
       "</style>\n",
       "<table border=\"1\" class=\"dataframe\">\n",
       "  <thead>\n",
       "    <tr style=\"text-align: right;\">\n",
       "      <th></th>\n",
       "      <th>Name</th>\n",
       "      <th>Description</th>\n",
       "      <th>GTEX-1117F</th>\n",
       "      <th>GTEX-111CU</th>\n",
       "      <th>GTEX-111FC</th>\n",
       "      <th>GTEX-111VG</th>\n",
       "      <th>GTEX-111YS</th>\n",
       "      <th>GTEX-1122O</th>\n",
       "      <th>GTEX-1128S</th>\n",
       "      <th>GTEX-113IC</th>\n",
       "      <th>...</th>\n",
       "      <th>GTEX-ZXES</th>\n",
       "      <th>GTEX-ZXG5</th>\n",
       "      <th>GTEX-ZYFC</th>\n",
       "      <th>GTEX-ZYFD</th>\n",
       "      <th>GTEX-ZYT6</th>\n",
       "      <th>GTEX-ZYVF</th>\n",
       "      <th>GTEX-ZYW4</th>\n",
       "      <th>GTEX-ZYY3</th>\n",
       "      <th>GTEX-ZZ64</th>\n",
       "      <th>GTEX-ZZPU</th>\n",
       "    </tr>\n",
       "  </thead>\n",
       "  <tbody>\n",
       "    <tr>\n",
       "      <th>0</th>\n",
       "      <td>ENSG00000227232.5</td>\n",
       "      <td>WASH7P</td>\n",
       "      <td>1.847200</td>\n",
       "      <td>-0.65175</td>\n",
       "      <td>0.052753</td>\n",
       "      <td>-0.54499</td>\n",
       "      <td>-0.621940</td>\n",
       "      <td>-1.03440</td>\n",
       "      <td>0.00000</td>\n",
       "      <td>0.39101</td>\n",
       "      <td>...</td>\n",
       "      <td>-0.734270</td>\n",
       "      <td>0.77197</td>\n",
       "      <td>1.97260</td>\n",
       "      <td>0.85675</td>\n",
       "      <td>-0.22081</td>\n",
       "      <td>-0.86851</td>\n",
       "      <td>-2.13990</td>\n",
       "      <td>0.20007</td>\n",
       "      <td>0.056815</td>\n",
       "      <td>-1.50360</td>\n",
       "    </tr>\n",
       "    <tr>\n",
       "      <th>1</th>\n",
       "      <td>ENSG00000268903.1</td>\n",
       "      <td>RP11-34P13.15</td>\n",
       "      <td>-0.034206</td>\n",
       "      <td>0.65816</td>\n",
       "      <td>-0.874180</td>\n",
       "      <td>2.10480</td>\n",
       "      <td>-0.131140</td>\n",
       "      <td>-0.13926</td>\n",
       "      <td>1.48310</td>\n",
       "      <td>-1.71320</td>\n",
       "      <td>...</td>\n",
       "      <td>-0.811050</td>\n",
       "      <td>-0.58972</td>\n",
       "      <td>-1.37170</td>\n",
       "      <td>0.66317</td>\n",
       "      <td>-1.21410</td>\n",
       "      <td>-0.34681</td>\n",
       "      <td>0.30438</td>\n",
       "      <td>1.41420</td>\n",
       "      <td>-0.928540</td>\n",
       "      <td>0.90405</td>\n",
       "    </tr>\n",
       "    <tr>\n",
       "      <th>2</th>\n",
       "      <td>ENSG00000269981.1</td>\n",
       "      <td>RP11-34P13.16</td>\n",
       "      <td>0.376650</td>\n",
       "      <td>1.07460</td>\n",
       "      <td>-0.627070</td>\n",
       "      <td>2.34870</td>\n",
       "      <td>0.385110</td>\n",
       "      <td>0.42354</td>\n",
       "      <td>1.31540</td>\n",
       "      <td>-2.95370</td>\n",
       "      <td>...</td>\n",
       "      <td>-0.176010</td>\n",
       "      <td>-0.87230</td>\n",
       "      <td>-1.72360</td>\n",
       "      <td>-1.32480</td>\n",
       "      <td>-0.70066</td>\n",
       "      <td>0.45387</td>\n",
       "      <td>0.37243</td>\n",
       "      <td>1.58470</td>\n",
       "      <td>-1.162800</td>\n",
       "      <td>1.12500</td>\n",
       "    </tr>\n",
       "    <tr>\n",
       "      <th>3</th>\n",
       "      <td>ENSG00000241860.6</td>\n",
       "      <td>RP11-34P13.13</td>\n",
       "      <td>0.491370</td>\n",
       "      <td>-0.71747</td>\n",
       "      <td>-0.088030</td>\n",
       "      <td>1.05730</td>\n",
       "      <td>-0.018402</td>\n",
       "      <td>0.88677</td>\n",
       "      <td>1.63930</td>\n",
       "      <td>-1.70560</td>\n",
       "      <td>...</td>\n",
       "      <td>1.969100</td>\n",
       "      <td>-1.17960</td>\n",
       "      <td>-1.51210</td>\n",
       "      <td>-2.02940</td>\n",
       "      <td>-0.51457</td>\n",
       "      <td>-0.39216</td>\n",
       "      <td>0.43672</td>\n",
       "      <td>0.15809</td>\n",
       "      <td>-1.450900</td>\n",
       "      <td>0.66044</td>\n",
       "    </tr>\n",
       "    <tr>\n",
       "      <th>4</th>\n",
       "      <td>ENSG00000279457.4</td>\n",
       "      <td>RP11-34P13.18</td>\n",
       "      <td>1.173100</td>\n",
       "      <td>-0.65816</td>\n",
       "      <td>0.904050</td>\n",
       "      <td>-0.30438</td>\n",
       "      <td>-2.104800</td>\n",
       "      <td>-0.89801</td>\n",
       "      <td>-0.39857</td>\n",
       "      <td>-2.40770</td>\n",
       "      <td>...</td>\n",
       "      <td>-0.098735</td>\n",
       "      <td>1.76810</td>\n",
       "      <td>-0.94727</td>\n",
       "      <td>1.20570</td>\n",
       "      <td>0.78889</td>\n",
       "      <td>-0.13520</td>\n",
       "      <td>0.93474</td>\n",
       "      <td>0.65317</td>\n",
       "      <td>0.308600</td>\n",
       "      <td>-0.95359</td>\n",
       "    </tr>\n",
       "  </tbody>\n",
       "</table>\n",
       "<p>5 rows × 665 columns</p>\n",
       "</div>"
      ],
      "text/plain": [
       "                Name    Description  GTEX-1117F  GTEX-111CU  GTEX-111FC  \\\n",
       "0  ENSG00000227232.5         WASH7P    1.847200    -0.65175    0.052753   \n",
       "1  ENSG00000268903.1  RP11-34P13.15   -0.034206     0.65816   -0.874180   \n",
       "2  ENSG00000269981.1  RP11-34P13.16    0.376650     1.07460   -0.627070   \n",
       "3  ENSG00000241860.6  RP11-34P13.13    0.491370    -0.71747   -0.088030   \n",
       "4  ENSG00000279457.4  RP11-34P13.18    1.173100    -0.65816    0.904050   \n",
       "\n",
       "   GTEX-111VG  GTEX-111YS  GTEX-1122O  GTEX-1128S  GTEX-113IC  ...  GTEX-ZXES  \\\n",
       "0    -0.54499   -0.621940    -1.03440     0.00000     0.39101  ...  -0.734270   \n",
       "1     2.10480   -0.131140    -0.13926     1.48310    -1.71320  ...  -0.811050   \n",
       "2     2.34870    0.385110     0.42354     1.31540    -2.95370  ...  -0.176010   \n",
       "3     1.05730   -0.018402     0.88677     1.63930    -1.70560  ...   1.969100   \n",
       "4    -0.30438   -2.104800    -0.89801    -0.39857    -2.40770  ...  -0.098735   \n",
       "\n",
       "   GTEX-ZXG5  GTEX-ZYFC  GTEX-ZYFD  GTEX-ZYT6  GTEX-ZYVF  GTEX-ZYW4  \\\n",
       "0    0.77197    1.97260    0.85675   -0.22081   -0.86851   -2.13990   \n",
       "1   -0.58972   -1.37170    0.66317   -1.21410   -0.34681    0.30438   \n",
       "2   -0.87230   -1.72360   -1.32480   -0.70066    0.45387    0.37243   \n",
       "3   -1.17960   -1.51210   -2.02940   -0.51457   -0.39216    0.43672   \n",
       "4    1.76810   -0.94727    1.20570    0.78889   -0.13520    0.93474   \n",
       "\n",
       "   GTEX-ZYY3  GTEX-ZZ64  GTEX-ZZPU  \n",
       "0    0.20007   0.056815   -1.50360  \n",
       "1    1.41420  -0.928540    0.90405  \n",
       "2    1.58470  -1.162800    1.12500  \n",
       "3    0.15809  -1.450900    0.66044  \n",
       "4    0.65317   0.308600   -0.95359  \n",
       "\n",
       "[5 rows x 665 columns]"
      ]
     },
     "execution_count": 11,
     "metadata": {},
     "output_type": "execute_result"
    }
   ],
   "source": [
    "adipose.head()"
   ]
  },
  {
   "cell_type": "markdown",
   "id": "3d10f3cb-f31b-41ec-93ba-97b19524e835",
   "metadata": {},
   "source": [
    "This means there are **663 subject ids** on the `Adipose _subcutaneous` dataset."
   ]
  },
  {
   "cell_type": "code",
   "execution_count": 13,
   "id": "93bfa47f-fed6-4caa-babe-16d2741b0935",
   "metadata": {},
   "outputs": [
    {
     "data": {
      "text/plain": [
       "(19466, 665)"
      ]
     },
     "execution_count": 13,
     "metadata": {},
     "output_type": "execute_result"
    }
   ],
   "source": [
    "adipose.shape"
   ]
  },
  {
   "cell_type": "markdown",
   "id": "842f7618-f7a7-4b3b-8305-12795cda2f51",
   "metadata": {},
   "source": [
    "* Number of **unique genes** in the `Adipose _subcutaneous` dataset"
   ]
  },
  {
   "cell_type": "code",
   "execution_count": 15,
   "id": "0cd43719-34df-4105-8d3d-0076e9ecf4d0",
   "metadata": {},
   "outputs": [
    {
     "data": {
      "text/plain": [
       "19457"
      ]
     },
     "execution_count": 15,
     "metadata": {},
     "output_type": "execute_result"
    }
   ],
   "source": [
    "adipose['Description'].nunique()"
   ]
  },
  {
   "cell_type": "code",
   "execution_count": 16,
   "id": "4011f2a6-32ac-4f7a-b055-72eebdcd071b",
   "metadata": {},
   "outputs": [
    {
     "data": {
      "text/plain": [
       "9"
      ]
     },
     "execution_count": 16,
     "metadata": {},
     "output_type": "execute_result"
    }
   ],
   "source": [
    "adipose['Description'].duplicated().sum()"
   ]
  },
  {
   "cell_type": "markdown",
   "id": "d8e3b128-d002-44dc-a854-1483aa190dc3",
   "metadata": {},
   "source": [
    "There are 9 duplicated genes. Since this is the dataframe that has the gene expression levels data, it's a good idea to drop the duplicated gene rows before merging with the other dataframes"
   ]
  },
  {
   "cell_type": "code",
   "execution_count": 18,
   "id": "d630cdcc-96fb-4478-a50d-bb857b6bf5c6",
   "metadata": {},
   "outputs": [],
   "source": [
    "adipose = adipose.drop_duplicates(subset='Description', keep='first')"
   ]
  },
  {
   "cell_type": "code",
   "execution_count": 19,
   "id": "388e078a-4a6c-4e5e-9739-c5c07ff27690",
   "metadata": {},
   "outputs": [
    {
     "data": {
      "text/plain": [
       "(19457, 665)"
      ]
     },
     "execution_count": 19,
     "metadata": {},
     "output_type": "execute_result"
    }
   ],
   "source": [
    "adipose.shape"
   ]
  },
  {
   "cell_type": "code",
   "execution_count": 20,
   "id": "8210fe1e-82c6-4485-81d2-808804153d92",
   "metadata": {},
   "outputs": [
    {
     "name": "stdout",
     "output_type": "stream",
     "text": [
      "<class 'pandas.core.frame.DataFrame'>\n",
      "Index: 19457 entries, 0 to 19465\n",
      "Columns: 665 entries, Name to GTEX-ZZPU\n",
      "dtypes: float64(663), object(2)\n",
      "memory usage: 98.9+ MB\n"
     ]
    }
   ],
   "source": [
    "adipose.info()"
   ]
  },
  {
   "cell_type": "code",
   "execution_count": 21,
   "id": "901ece2b-4f88-4d66-b190-ab18b7be031f",
   "metadata": {},
   "outputs": [
    {
     "data": {
      "text/html": [
       "<div>\n",
       "<style scoped>\n",
       "    .dataframe tbody tr th:only-of-type {\n",
       "        vertical-align: middle;\n",
       "    }\n",
       "\n",
       "    .dataframe tbody tr th {\n",
       "        vertical-align: top;\n",
       "    }\n",
       "\n",
       "    .dataframe thead th {\n",
       "        text-align: right;\n",
       "    }\n",
       "</style>\n",
       "<table border=\"1\" class=\"dataframe\">\n",
       "  <thead>\n",
       "    <tr style=\"text-align: right;\">\n",
       "      <th></th>\n",
       "      <th>GTEX-1117F</th>\n",
       "      <th>GTEX-111CU</th>\n",
       "      <th>GTEX-111FC</th>\n",
       "      <th>GTEX-111VG</th>\n",
       "      <th>GTEX-111YS</th>\n",
       "      <th>GTEX-1122O</th>\n",
       "      <th>GTEX-1128S</th>\n",
       "      <th>GTEX-113IC</th>\n",
       "      <th>GTEX-117YX</th>\n",
       "      <th>GTEX-11DXW</th>\n",
       "      <th>...</th>\n",
       "      <th>GTEX-ZXES</th>\n",
       "      <th>GTEX-ZXG5</th>\n",
       "      <th>GTEX-ZYFC</th>\n",
       "      <th>GTEX-ZYFD</th>\n",
       "      <th>GTEX-ZYT6</th>\n",
       "      <th>GTEX-ZYVF</th>\n",
       "      <th>GTEX-ZYW4</th>\n",
       "      <th>GTEX-ZYY3</th>\n",
       "      <th>GTEX-ZZ64</th>\n",
       "      <th>GTEX-ZZPU</th>\n",
       "    </tr>\n",
       "  </thead>\n",
       "  <tbody>\n",
       "    <tr>\n",
       "      <th>count</th>\n",
       "      <td>19457.000000</td>\n",
       "      <td>19457.000000</td>\n",
       "      <td>19457.000000</td>\n",
       "      <td>19457.000000</td>\n",
       "      <td>19457.000000</td>\n",
       "      <td>19457.000000</td>\n",
       "      <td>19457.000000</td>\n",
       "      <td>19457.000000</td>\n",
       "      <td>19457.000000</td>\n",
       "      <td>19457.000000</td>\n",
       "      <td>...</td>\n",
       "      <td>19457.000000</td>\n",
       "      <td>19457.000000</td>\n",
       "      <td>19457.000000</td>\n",
       "      <td>19457.000000</td>\n",
       "      <td>19457.000000</td>\n",
       "      <td>19457.000000</td>\n",
       "      <td>19457.000000</td>\n",
       "      <td>19457.000000</td>\n",
       "      <td>19457.000000</td>\n",
       "      <td>19457.000000</td>\n",
       "    </tr>\n",
       "    <tr>\n",
       "      <th>mean</th>\n",
       "      <td>0.643666</td>\n",
       "      <td>0.201460</td>\n",
       "      <td>0.380913</td>\n",
       "      <td>0.115868</td>\n",
       "      <td>-0.506390</td>\n",
       "      <td>-0.421456</td>\n",
       "      <td>-0.195474</td>\n",
       "      <td>0.432963</td>\n",
       "      <td>-0.342554</td>\n",
       "      <td>-0.095230</td>\n",
       "      <td>...</td>\n",
       "      <td>-0.475384</td>\n",
       "      <td>0.395381</td>\n",
       "      <td>0.082038</td>\n",
       "      <td>-0.641523</td>\n",
       "      <td>0.095972</td>\n",
       "      <td>-0.085088</td>\n",
       "      <td>0.187726</td>\n",
       "      <td>-0.034628</td>\n",
       "      <td>-0.333406</td>\n",
       "      <td>-0.173342</td>\n",
       "    </tr>\n",
       "    <tr>\n",
       "      <th>std</th>\n",
       "      <td>1.181958</td>\n",
       "      <td>0.808412</td>\n",
       "      <td>0.869541</td>\n",
       "      <td>1.011069</td>\n",
       "      <td>0.738519</td>\n",
       "      <td>0.801530</td>\n",
       "      <td>0.822129</td>\n",
       "      <td>0.893706</td>\n",
       "      <td>0.936958</td>\n",
       "      <td>0.877632</td>\n",
       "      <td>...</td>\n",
       "      <td>0.957318</td>\n",
       "      <td>0.745503</td>\n",
       "      <td>0.844333</td>\n",
       "      <td>1.183658</td>\n",
       "      <td>0.762425</td>\n",
       "      <td>1.234812</td>\n",
       "      <td>0.878866</td>\n",
       "      <td>0.939057</td>\n",
       "      <td>0.913014</td>\n",
       "      <td>0.800117</td>\n",
       "    </tr>\n",
       "    <tr>\n",
       "      <th>min</th>\n",
       "      <td>-2.955600</td>\n",
       "      <td>-2.952300</td>\n",
       "      <td>-2.960900</td>\n",
       "      <td>-2.953700</td>\n",
       "      <td>-2.959500</td>\n",
       "      <td>-2.953200</td>\n",
       "      <td>-2.957100</td>\n",
       "      <td>-2.955200</td>\n",
       "      <td>-2.956100</td>\n",
       "      <td>-2.959500</td>\n",
       "      <td>...</td>\n",
       "      <td>-2.962300</td>\n",
       "      <td>-2.948800</td>\n",
       "      <td>-2.957600</td>\n",
       "      <td>-2.957100</td>\n",
       "      <td>-2.948800</td>\n",
       "      <td>-2.959000</td>\n",
       "      <td>-2.953200</td>\n",
       "      <td>-2.953700</td>\n",
       "      <td>-2.958000</td>\n",
       "      <td>-2.956600</td>\n",
       "    </tr>\n",
       "    <tr>\n",
       "      <th>25%</th>\n",
       "      <td>-0.171940</td>\n",
       "      <td>-0.345310</td>\n",
       "      <td>-0.173120</td>\n",
       "      <td>-0.585360</td>\n",
       "      <td>-1.023500</td>\n",
       "      <td>-0.994810</td>\n",
       "      <td>-0.746160</td>\n",
       "      <td>-0.161590</td>\n",
       "      <td>-0.988620</td>\n",
       "      <td>-0.704610</td>\n",
       "      <td>...</td>\n",
       "      <td>-1.148300</td>\n",
       "      <td>-0.084705</td>\n",
       "      <td>-0.457460</td>\n",
       "      <td>-1.524500</td>\n",
       "      <td>-0.398270</td>\n",
       "      <td>-0.961890</td>\n",
       "      <td>-0.414950</td>\n",
       "      <td>-0.703830</td>\n",
       "      <td>-0.983580</td>\n",
       "      <td>-0.725490</td>\n",
       "    </tr>\n",
       "    <tr>\n",
       "      <th>50%</th>\n",
       "      <td>0.690630</td>\n",
       "      <td>0.180590</td>\n",
       "      <td>0.436780</td>\n",
       "      <td>0.028274</td>\n",
       "      <td>-0.548900</td>\n",
       "      <td>-0.476970</td>\n",
       "      <td>-0.224420</td>\n",
       "      <td>0.444120</td>\n",
       "      <td>-0.423740</td>\n",
       "      <td>-0.122100</td>\n",
       "      <td>...</td>\n",
       "      <td>-0.557360</td>\n",
       "      <td>0.437260</td>\n",
       "      <td>0.093357</td>\n",
       "      <td>-0.720920</td>\n",
       "      <td>0.118210</td>\n",
       "      <td>-0.180010</td>\n",
       "      <td>0.199200</td>\n",
       "      <td>-0.074034</td>\n",
       "      <td>-0.380240</td>\n",
       "      <td>-0.185190</td>\n",
       "    </tr>\n",
       "    <tr>\n",
       "      <th>75%</th>\n",
       "      <td>1.523400</td>\n",
       "      <td>0.732280</td>\n",
       "      <td>0.994460</td>\n",
       "      <td>0.730950</td>\n",
       "      <td>-0.033988</td>\n",
       "      <td>0.108090</td>\n",
       "      <td>0.338430</td>\n",
       "      <td>1.046900</td>\n",
       "      <td>0.254160</td>\n",
       "      <td>0.485410</td>\n",
       "      <td>...</td>\n",
       "      <td>0.126670</td>\n",
       "      <td>0.912910</td>\n",
       "      <td>0.639780</td>\n",
       "      <td>0.161050</td>\n",
       "      <td>0.617980</td>\n",
       "      <td>0.731590</td>\n",
       "      <td>0.800890</td>\n",
       "      <td>0.595010</td>\n",
       "      <td>0.262650</td>\n",
       "      <td>0.372740</td>\n",
       "    </tr>\n",
       "    <tr>\n",
       "      <th>max</th>\n",
       "      <td>2.958500</td>\n",
       "      <td>2.957100</td>\n",
       "      <td>2.956600</td>\n",
       "      <td>2.962800</td>\n",
       "      <td>2.411200</td>\n",
       "      <td>2.594800</td>\n",
       "      <td>2.943400</td>\n",
       "      <td>2.959500</td>\n",
       "      <td>2.958500</td>\n",
       "      <td>2.955600</td>\n",
       "      <td>...</td>\n",
       "      <td>2.957600</td>\n",
       "      <td>2.953200</td>\n",
       "      <td>2.956600</td>\n",
       "      <td>2.959500</td>\n",
       "      <td>2.950300</td>\n",
       "      <td>2.958500</td>\n",
       "      <td>2.955200</td>\n",
       "      <td>2.956100</td>\n",
       "      <td>2.949300</td>\n",
       "      <td>2.717400</td>\n",
       "    </tr>\n",
       "  </tbody>\n",
       "</table>\n",
       "<p>8 rows × 663 columns</p>\n",
       "</div>"
      ],
      "text/plain": [
       "         GTEX-1117F    GTEX-111CU    GTEX-111FC    GTEX-111VG    GTEX-111YS  \\\n",
       "count  19457.000000  19457.000000  19457.000000  19457.000000  19457.000000   \n",
       "mean       0.643666      0.201460      0.380913      0.115868     -0.506390   \n",
       "std        1.181958      0.808412      0.869541      1.011069      0.738519   \n",
       "min       -2.955600     -2.952300     -2.960900     -2.953700     -2.959500   \n",
       "25%       -0.171940     -0.345310     -0.173120     -0.585360     -1.023500   \n",
       "50%        0.690630      0.180590      0.436780      0.028274     -0.548900   \n",
       "75%        1.523400      0.732280      0.994460      0.730950     -0.033988   \n",
       "max        2.958500      2.957100      2.956600      2.962800      2.411200   \n",
       "\n",
       "         GTEX-1122O    GTEX-1128S    GTEX-113IC    GTEX-117YX    GTEX-11DXW  \\\n",
       "count  19457.000000  19457.000000  19457.000000  19457.000000  19457.000000   \n",
       "mean      -0.421456     -0.195474      0.432963     -0.342554     -0.095230   \n",
       "std        0.801530      0.822129      0.893706      0.936958      0.877632   \n",
       "min       -2.953200     -2.957100     -2.955200     -2.956100     -2.959500   \n",
       "25%       -0.994810     -0.746160     -0.161590     -0.988620     -0.704610   \n",
       "50%       -0.476970     -0.224420      0.444120     -0.423740     -0.122100   \n",
       "75%        0.108090      0.338430      1.046900      0.254160      0.485410   \n",
       "max        2.594800      2.943400      2.959500      2.958500      2.955600   \n",
       "\n",
       "       ...     GTEX-ZXES     GTEX-ZXG5     GTEX-ZYFC     GTEX-ZYFD  \\\n",
       "count  ...  19457.000000  19457.000000  19457.000000  19457.000000   \n",
       "mean   ...     -0.475384      0.395381      0.082038     -0.641523   \n",
       "std    ...      0.957318      0.745503      0.844333      1.183658   \n",
       "min    ...     -2.962300     -2.948800     -2.957600     -2.957100   \n",
       "25%    ...     -1.148300     -0.084705     -0.457460     -1.524500   \n",
       "50%    ...     -0.557360      0.437260      0.093357     -0.720920   \n",
       "75%    ...      0.126670      0.912910      0.639780      0.161050   \n",
       "max    ...      2.957600      2.953200      2.956600      2.959500   \n",
       "\n",
       "          GTEX-ZYT6     GTEX-ZYVF     GTEX-ZYW4     GTEX-ZYY3     GTEX-ZZ64  \\\n",
       "count  19457.000000  19457.000000  19457.000000  19457.000000  19457.000000   \n",
       "mean       0.095972     -0.085088      0.187726     -0.034628     -0.333406   \n",
       "std        0.762425      1.234812      0.878866      0.939057      0.913014   \n",
       "min       -2.948800     -2.959000     -2.953200     -2.953700     -2.958000   \n",
       "25%       -0.398270     -0.961890     -0.414950     -0.703830     -0.983580   \n",
       "50%        0.118210     -0.180010      0.199200     -0.074034     -0.380240   \n",
       "75%        0.617980      0.731590      0.800890      0.595010      0.262650   \n",
       "max        2.950300      2.958500      2.955200      2.956100      2.949300   \n",
       "\n",
       "          GTEX-ZZPU  \n",
       "count  19457.000000  \n",
       "mean      -0.173342  \n",
       "std        0.800117  \n",
       "min       -2.956600  \n",
       "25%       -0.725490  \n",
       "50%       -0.185190  \n",
       "75%        0.372740  \n",
       "max        2.717400  \n",
       "\n",
       "[8 rows x 663 columns]"
      ]
     },
     "execution_count": 21,
     "metadata": {},
     "output_type": "execute_result"
    }
   ],
   "source": [
    "adipose.describe()"
   ]
  },
  {
   "cell_type": "code",
   "execution_count": 22,
   "id": "f8434bbf-91d3-4a2e-a13c-b5a69f3d382e",
   "metadata": {},
   "outputs": [
    {
     "data": {
      "text/plain": [
       "0"
      ]
     },
     "execution_count": 22,
     "metadata": {},
     "output_type": "execute_result"
    }
   ],
   "source": [
    "adipose.isna().any(axis=1).sum()"
   ]
  },
  {
   "cell_type": "markdown",
   "id": "ecaa9231-2274-4a1e-923d-5cb10e2d0801",
   "metadata": {},
   "source": [
    "---"
   ]
  },
  {
   "cell_type": "markdown",
   "id": "77d39469-95c3-46be-963d-115b25f340d2",
   "metadata": {},
   "source": [
    "**2.** `GTEx_phenotypes.csv`"
   ]
  },
  {
   "cell_type": "code",
   "execution_count": 25,
   "id": "9df3ec71-5aef-420a-b1e9-4a78b9aa7510",
   "metadata": {},
   "outputs": [
    {
     "data": {
      "text/html": [
       "<div>\n",
       "<style scoped>\n",
       "    .dataframe tbody tr th:only-of-type {\n",
       "        vertical-align: middle;\n",
       "    }\n",
       "\n",
       "    .dataframe tbody tr th {\n",
       "        vertical-align: top;\n",
       "    }\n",
       "\n",
       "    .dataframe thead th {\n",
       "        text-align: right;\n",
       "    }\n",
       "</style>\n",
       "<table border=\"1\" class=\"dataframe\">\n",
       "  <thead>\n",
       "    <tr style=\"text-align: right;\">\n",
       "      <th></th>\n",
       "      <th>SUBJID</th>\n",
       "      <th>SEX</th>\n",
       "      <th>AGE</th>\n",
       "      <th>DTHHRDY</th>\n",
       "    </tr>\n",
       "  </thead>\n",
       "  <tbody>\n",
       "    <tr>\n",
       "      <th>0</th>\n",
       "      <td>GTEX-1117F</td>\n",
       "      <td>2</td>\n",
       "      <td>65</td>\n",
       "      <td>4.0</td>\n",
       "    </tr>\n",
       "    <tr>\n",
       "      <th>1</th>\n",
       "      <td>GTEX-111CU</td>\n",
       "      <td>1</td>\n",
       "      <td>55</td>\n",
       "      <td>0.0</td>\n",
       "    </tr>\n",
       "    <tr>\n",
       "      <th>2</th>\n",
       "      <td>GTEX-111FC</td>\n",
       "      <td>1</td>\n",
       "      <td>65</td>\n",
       "      <td>1.0</td>\n",
       "    </tr>\n",
       "    <tr>\n",
       "      <th>3</th>\n",
       "      <td>GTEX-111VG</td>\n",
       "      <td>1</td>\n",
       "      <td>65</td>\n",
       "      <td>3.0</td>\n",
       "    </tr>\n",
       "    <tr>\n",
       "      <th>4</th>\n",
       "      <td>GTEX-111YS</td>\n",
       "      <td>1</td>\n",
       "      <td>65</td>\n",
       "      <td>0.0</td>\n",
       "    </tr>\n",
       "  </tbody>\n",
       "</table>\n",
       "</div>"
      ],
      "text/plain": [
       "       SUBJID  SEX  AGE  DTHHRDY\n",
       "0  GTEX-1117F    2   65      4.0\n",
       "1  GTEX-111CU    1   55      0.0\n",
       "2  GTEX-111FC    1   65      1.0\n",
       "3  GTEX-111VG    1   65      3.0\n",
       "4  GTEX-111YS    1   65      0.0"
      ]
     },
     "execution_count": 25,
     "metadata": {},
     "output_type": "execute_result"
    }
   ],
   "source": [
    "phenotypes.head()"
   ]
  },
  {
   "cell_type": "markdown",
   "id": "fceea1ca-b063-4ff2-a3ff-e8750ef3a162",
   "metadata": {},
   "source": [
    "**Note**: \n",
    "In the Genotype-Tissue Expression (GTEx) data(`GTEx_phenotypes.csv`), the DTHHRDY (death history) column is used to encode death classification based on the 4-point Hardy Scale. The coding corresponds to the following categories:  \n",
    "\n",
    "* 0: Ventilator case\n",
    "* 1: Violent and fast death\n",
    "* 2: Fast death of natural causes\n",
    "* 3: Intermediate death\n",
    "* 4: Slow death "
   ]
  },
  {
   "cell_type": "code",
   "execution_count": 27,
   "id": "09ad0ea2-e11b-4278-ad09-e95a491a6c0a",
   "metadata": {},
   "outputs": [
    {
     "data": {
      "text/plain": [
       "(979, 4)"
      ]
     },
     "execution_count": 27,
     "metadata": {},
     "output_type": "execute_result"
    }
   ],
   "source": [
    "phenotypes.shape"
   ]
  },
  {
   "cell_type": "markdown",
   "id": "5a5d22d4-b51c-435e-bded-ac66aeebc475",
   "metadata": {},
   "source": [
    "**979 subject ids** on the `GTEx_phenotypes` dataset; **316** more than the `Adipose _subcutaneous` dataset"
   ]
  },
  {
   "cell_type": "code",
   "execution_count": 29,
   "id": "6878038a-1f65-46af-b3f8-4b1e47781054",
   "metadata": {},
   "outputs": [
    {
     "name": "stdout",
     "output_type": "stream",
     "text": [
      "<class 'pandas.core.frame.DataFrame'>\n",
      "RangeIndex: 979 entries, 0 to 978\n",
      "Data columns (total 4 columns):\n",
      " #   Column   Non-Null Count  Dtype  \n",
      "---  ------   --------------  -----  \n",
      " 0   SUBJID   979 non-null    object \n",
      " 1   SEX      979 non-null    int64  \n",
      " 2   AGE      979 non-null    int64  \n",
      " 3   DTHHRDY  961 non-null    float64\n",
      "dtypes: float64(1), int64(2), object(1)\n",
      "memory usage: 30.7+ KB\n"
     ]
    }
   ],
   "source": [
    "phenotypes.info()"
   ]
  },
  {
   "cell_type": "code",
   "execution_count": 30,
   "id": "8d025509-6342-4427-9d4e-a5b176fd26a0",
   "metadata": {},
   "outputs": [
    {
     "data": {
      "text/html": [
       "<div>\n",
       "<style scoped>\n",
       "    .dataframe tbody tr th:only-of-type {\n",
       "        vertical-align: middle;\n",
       "    }\n",
       "\n",
       "    .dataframe tbody tr th {\n",
       "        vertical-align: top;\n",
       "    }\n",
       "\n",
       "    .dataframe thead th {\n",
       "        text-align: right;\n",
       "    }\n",
       "</style>\n",
       "<table border=\"1\" class=\"dataframe\">\n",
       "  <thead>\n",
       "    <tr style=\"text-align: right;\">\n",
       "      <th></th>\n",
       "      <th>SEX</th>\n",
       "      <th>AGE</th>\n",
       "      <th>DTHHRDY</th>\n",
       "    </tr>\n",
       "  </thead>\n",
       "  <tbody>\n",
       "    <tr>\n",
       "      <th>count</th>\n",
       "      <td>979.000000</td>\n",
       "      <td>979.000000</td>\n",
       "      <td>961.000000</td>\n",
       "    </tr>\n",
       "    <tr>\n",
       "      <th>mean</th>\n",
       "      <td>1.332993</td>\n",
       "      <td>53.181818</td>\n",
       "      <td>1.207076</td>\n",
       "    </tr>\n",
       "    <tr>\n",
       "      <th>std</th>\n",
       "      <td>0.471525</td>\n",
       "      <td>12.940150</td>\n",
       "      <td>1.446185</td>\n",
       "    </tr>\n",
       "    <tr>\n",
       "      <th>min</th>\n",
       "      <td>1.000000</td>\n",
       "      <td>25.000000</td>\n",
       "      <td>0.000000</td>\n",
       "    </tr>\n",
       "    <tr>\n",
       "      <th>25%</th>\n",
       "      <td>1.000000</td>\n",
       "      <td>45.000000</td>\n",
       "      <td>0.000000</td>\n",
       "    </tr>\n",
       "    <tr>\n",
       "      <th>50%</th>\n",
       "      <td>1.000000</td>\n",
       "      <td>55.000000</td>\n",
       "      <td>0.000000</td>\n",
       "    </tr>\n",
       "    <tr>\n",
       "      <th>75%</th>\n",
       "      <td>2.000000</td>\n",
       "      <td>65.000000</td>\n",
       "      <td>2.000000</td>\n",
       "    </tr>\n",
       "    <tr>\n",
       "      <th>max</th>\n",
       "      <td>2.000000</td>\n",
       "      <td>75.000000</td>\n",
       "      <td>4.000000</td>\n",
       "    </tr>\n",
       "  </tbody>\n",
       "</table>\n",
       "</div>"
      ],
      "text/plain": [
       "              SEX         AGE     DTHHRDY\n",
       "count  979.000000  979.000000  961.000000\n",
       "mean     1.332993   53.181818    1.207076\n",
       "std      0.471525   12.940150    1.446185\n",
       "min      1.000000   25.000000    0.000000\n",
       "25%      1.000000   45.000000    0.000000\n",
       "50%      1.000000   55.000000    0.000000\n",
       "75%      2.000000   65.000000    2.000000\n",
       "max      2.000000   75.000000    4.000000"
      ]
     },
     "execution_count": 30,
     "metadata": {},
     "output_type": "execute_result"
    }
   ],
   "source": [
    "phenotypes.describe()"
   ]
  },
  {
   "cell_type": "code",
   "execution_count": 31,
   "id": "47759047-71c8-422f-b24d-5d936a21aadb",
   "metadata": {},
   "outputs": [
    {
     "data": {
      "text/plain": [
       "18"
      ]
     },
     "execution_count": 31,
     "metadata": {},
     "output_type": "execute_result"
    }
   ],
   "source": [
    "phenotypes.isna().any(axis=1).sum()"
   ]
  },
  {
   "cell_type": "markdown",
   "id": "70562a10-3cb7-4203-a698-ef2b192b9c64",
   "metadata": {},
   "source": [
    "Null values will be addressed after merging dataframes."
   ]
  },
  {
   "cell_type": "markdown",
   "id": "b25fdf2d-0246-4522-a327-d25eb41821f2",
   "metadata": {},
   "source": [
    "---\n",
    "**3.** `gencode26.csv`"
   ]
  },
  {
   "cell_type": "code",
   "execution_count": 34,
   "id": "92b628a9-cf03-41c4-a7a6-c7b99aadee05",
   "metadata": {},
   "outputs": [
    {
     "data": {
      "text/html": [
       "<div>\n",
       "<style scoped>\n",
       "    .dataframe tbody tr th:only-of-type {\n",
       "        vertical-align: middle;\n",
       "    }\n",
       "\n",
       "    .dataframe tbody tr th {\n",
       "        vertical-align: top;\n",
       "    }\n",
       "\n",
       "    .dataframe thead th {\n",
       "        text-align: right;\n",
       "    }\n",
       "</style>\n",
       "<table border=\"1\" class=\"dataframe\">\n",
       "  <thead>\n",
       "    <tr style=\"text-align: right;\">\n",
       "      <th></th>\n",
       "      <th>id</th>\n",
       "      <th>chromosome</th>\n",
       "      <th>position</th>\n",
       "      <th>name</th>\n",
       "      <th>type</th>\n",
       "    </tr>\n",
       "  </thead>\n",
       "  <tbody>\n",
       "    <tr>\n",
       "      <th>0</th>\n",
       "      <td>ENSG00000223972.5</td>\n",
       "      <td>chr1</td>\n",
       "      <td>11869</td>\n",
       "      <td>DDX11L1</td>\n",
       "      <td>transcribed_unprocessed_pseudogene</td>\n",
       "    </tr>\n",
       "    <tr>\n",
       "      <th>1</th>\n",
       "      <td>ENSG00000227232.5</td>\n",
       "      <td>chr1</td>\n",
       "      <td>29570</td>\n",
       "      <td>WASH7P</td>\n",
       "      <td>unprocessed_pseudogene</td>\n",
       "    </tr>\n",
       "    <tr>\n",
       "      <th>2</th>\n",
       "      <td>ENSG00000278267.1</td>\n",
       "      <td>chr1</td>\n",
       "      <td>17436</td>\n",
       "      <td>MIR6859-1</td>\n",
       "      <td>miRNA</td>\n",
       "    </tr>\n",
       "    <tr>\n",
       "      <th>3</th>\n",
       "      <td>ENSG00000243485.5</td>\n",
       "      <td>chr1</td>\n",
       "      <td>29554</td>\n",
       "      <td>MIR1302-2HG</td>\n",
       "      <td>lincRNA</td>\n",
       "    </tr>\n",
       "    <tr>\n",
       "      <th>4</th>\n",
       "      <td>ENSG00000284332.1</td>\n",
       "      <td>chr1</td>\n",
       "      <td>30366</td>\n",
       "      <td>MIR1302-2</td>\n",
       "      <td>miRNA</td>\n",
       "    </tr>\n",
       "  </tbody>\n",
       "</table>\n",
       "</div>"
      ],
      "text/plain": [
       "                  id chromosome  position         name  \\\n",
       "0  ENSG00000223972.5       chr1     11869      DDX11L1   \n",
       "1  ENSG00000227232.5       chr1     29570       WASH7P   \n",
       "2  ENSG00000278267.1       chr1     17436    MIR6859-1   \n",
       "3  ENSG00000243485.5       chr1     29554  MIR1302-2HG   \n",
       "4  ENSG00000284332.1       chr1     30366    MIR1302-2   \n",
       "\n",
       "                                 type  \n",
       "0  transcribed_unprocessed_pseudogene  \n",
       "1              unprocessed_pseudogene  \n",
       "2                               miRNA  \n",
       "3                             lincRNA  \n",
       "4                               miRNA  "
      ]
     },
     "execution_count": 34,
     "metadata": {},
     "output_type": "execute_result"
    }
   ],
   "source": [
    "gencode.head()"
   ]
  },
  {
   "cell_type": "code",
   "execution_count": 35,
   "id": "41d90092-f9ba-45bc-b7f2-2b35dc4eb5d2",
   "metadata": {},
   "outputs": [
    {
     "data": {
      "text/plain": [
       "(58219, 5)"
      ]
     },
     "execution_count": 35,
     "metadata": {},
     "output_type": "execute_result"
    }
   ],
   "source": [
    "gencode.shape"
   ]
  },
  {
   "cell_type": "markdown",
   "id": "caf96d7a-fb5f-42eb-ae20-a9a906a5ffb3",
   "metadata": {},
   "source": [
    "* Number of **unique genes** in the `gencode` dataset"
   ]
  },
  {
   "cell_type": "code",
   "execution_count": 37,
   "id": "5944b222-55f2-45f1-a537-4696c2360c7f",
   "metadata": {},
   "outputs": [
    {
     "data": {
      "text/plain": [
       "56470"
      ]
     },
     "execution_count": 37,
     "metadata": {},
     "output_type": "execute_result"
    }
   ],
   "source": [
    "gencode['name'].nunique()"
   ]
  },
  {
   "cell_type": "markdown",
   "id": "c12321f2-eee6-40d8-a912-a0eb2a70f5cb",
   "metadata": {},
   "source": [
    "**56470** unique genes on the `gencode` dataset, **37013** more than the `adipose` dataset."
   ]
  },
  {
   "cell_type": "code",
   "execution_count": 39,
   "id": "e51e2b19-dcd6-4465-8580-333c0b56f6f9",
   "metadata": {},
   "outputs": [
    {
     "data": {
      "text/plain": [
       "1749"
      ]
     },
     "execution_count": 39,
     "metadata": {},
     "output_type": "execute_result"
    }
   ],
   "source": [
    "gencode['name'].duplicated().sum()"
   ]
  },
  {
   "cell_type": "markdown",
   "id": "d32cab44-bb9d-47e4-a7ca-0841e4b96658",
   "metadata": {},
   "source": [
    "This means that there are **1749 duplicated genes**. "
   ]
  },
  {
   "cell_type": "code",
   "execution_count": 41,
   "id": "fcd09a43-9d09-45b4-afb8-9ee28aa4187d",
   "metadata": {},
   "outputs": [
    {
     "name": "stdout",
     "output_type": "stream",
     "text": [
      "<class 'pandas.core.frame.DataFrame'>\n",
      "RangeIndex: 58219 entries, 0 to 58218\n",
      "Data columns (total 5 columns):\n",
      " #   Column      Non-Null Count  Dtype \n",
      "---  ------      --------------  ----- \n",
      " 0   id          58219 non-null  object\n",
      " 1   chromosome  58219 non-null  object\n",
      " 2   position    58219 non-null  int64 \n",
      " 3   name        58219 non-null  object\n",
      " 4   type        58219 non-null  object\n",
      "dtypes: int64(1), object(4)\n",
      "memory usage: 2.2+ MB\n"
     ]
    }
   ],
   "source": [
    "gencode.info()"
   ]
  },
  {
   "cell_type": "code",
   "execution_count": 42,
   "id": "0429a5cd-16b7-4763-acff-4bee9e55dcc3",
   "metadata": {},
   "outputs": [
    {
     "data": {
      "text/plain": [
       "0"
      ]
     },
     "execution_count": 42,
     "metadata": {},
     "output_type": "execute_result"
    }
   ],
   "source": [
    "gencode.isna().any(axis=1).sum()"
   ]
  },
  {
   "cell_type": "markdown",
   "id": "21d72848-e569-4ac0-ac4c-18cf7a80edbd",
   "metadata": {},
   "source": [
    "---"
   ]
  },
  {
   "cell_type": "markdown",
   "id": "0328d52e-371e-4ecc-9d13-8c4cafd57960",
   "metadata": {},
   "source": [
    "### Merge dataframes  \n",
    "Merge `adipose df` with `phenotypes df` first:\n",
    "* Subject IDs Alignment: The `adipose` data has subject IDs as columns (like GTEX-1117F, GTEX-111CU), while the `phenotypes` data has subject \n",
    "  IDs as rows. But first, reshape the adipose data into a long format that allows it to associate each sample with its \n",
    "  corresponding phenotypic data (sex, age, etc.).\n",
    "    \n",
    "* Facilitates Analysis: After merging, we will have a consolidated dataset where each row represents a sample with its corresponding expression \n",
    "  levels and phenotype information. This will streamline the linear regression analysis.\n",
    "\n",
    "* `pandas.melt()`: Unpivot a DataFrame from wide to long format, optionally leaving identifiers set. This function is useful to massage a DataFrame \n",
    "  into a format where one or more columns are identifier variables (id_vars), while all other columns, considered measured variables (value_vars), \n",
    "  are “unpivoted” to the row axis, leaving just two non-identifier columns, ‘variable’ and ‘value’."
   ]
  },
  {
   "cell_type": "code",
   "execution_count": 45,
   "id": "193851b5-4026-4e71-82ec-fe650df59aa5",
   "metadata": {},
   "outputs": [
    {
     "data": {
      "text/html": [
       "<div>\n",
       "<style scoped>\n",
       "    .dataframe tbody tr th:only-of-type {\n",
       "        vertical-align: middle;\n",
       "    }\n",
       "\n",
       "    .dataframe tbody tr th {\n",
       "        vertical-align: top;\n",
       "    }\n",
       "\n",
       "    .dataframe thead th {\n",
       "        text-align: right;\n",
       "    }\n",
       "</style>\n",
       "<table border=\"1\" class=\"dataframe\">\n",
       "  <thead>\n",
       "    <tr style=\"text-align: right;\">\n",
       "      <th></th>\n",
       "      <th>Name</th>\n",
       "      <th>Description</th>\n",
       "      <th>SUBJID</th>\n",
       "      <th>Expression</th>\n",
       "    </tr>\n",
       "  </thead>\n",
       "  <tbody>\n",
       "    <tr>\n",
       "      <th>0</th>\n",
       "      <td>ENSG00000227232.5</td>\n",
       "      <td>WASH7P</td>\n",
       "      <td>GTEX-1117F</td>\n",
       "      <td>1.847200</td>\n",
       "    </tr>\n",
       "    <tr>\n",
       "      <th>1</th>\n",
       "      <td>ENSG00000268903.1</td>\n",
       "      <td>RP11-34P13.15</td>\n",
       "      <td>GTEX-1117F</td>\n",
       "      <td>-0.034206</td>\n",
       "    </tr>\n",
       "    <tr>\n",
       "      <th>2</th>\n",
       "      <td>ENSG00000269981.1</td>\n",
       "      <td>RP11-34P13.16</td>\n",
       "      <td>GTEX-1117F</td>\n",
       "      <td>0.376650</td>\n",
       "    </tr>\n",
       "    <tr>\n",
       "      <th>3</th>\n",
       "      <td>ENSG00000241860.6</td>\n",
       "      <td>RP11-34P13.13</td>\n",
       "      <td>GTEX-1117F</td>\n",
       "      <td>0.491370</td>\n",
       "    </tr>\n",
       "    <tr>\n",
       "      <th>4</th>\n",
       "      <td>ENSG00000279457.4</td>\n",
       "      <td>RP11-34P13.18</td>\n",
       "      <td>GTEX-1117F</td>\n",
       "      <td>1.173100</td>\n",
       "    </tr>\n",
       "  </tbody>\n",
       "</table>\n",
       "</div>"
      ],
      "text/plain": [
       "                Name    Description      SUBJID  Expression\n",
       "0  ENSG00000227232.5         WASH7P  GTEX-1117F    1.847200\n",
       "1  ENSG00000268903.1  RP11-34P13.15  GTEX-1117F   -0.034206\n",
       "2  ENSG00000269981.1  RP11-34P13.16  GTEX-1117F    0.376650\n",
       "3  ENSG00000241860.6  RP11-34P13.13  GTEX-1117F    0.491370\n",
       "4  ENSG00000279457.4  RP11-34P13.18  GTEX-1117F    1.173100"
      ]
     },
     "execution_count": 45,
     "metadata": {},
     "output_type": "execute_result"
    }
   ],
   "source": [
    "# 1. Reshape the adipose data\n",
    "adipose_long = adipose.melt(id_vars=['Name', 'Description'], \n",
    "                             var_name='SUBJID', \n",
    "                             value_name='Expression')\n",
    "\n",
    "adipose_long.head()"
   ]
  },
  {
   "cell_type": "code",
   "execution_count": 46,
   "id": "8bfd8b10-5a9b-4856-a0a0-12914a69ad89",
   "metadata": {},
   "outputs": [
    {
     "data": {
      "text/html": [
       "<div>\n",
       "<style scoped>\n",
       "    .dataframe tbody tr th:only-of-type {\n",
       "        vertical-align: middle;\n",
       "    }\n",
       "\n",
       "    .dataframe tbody tr th {\n",
       "        vertical-align: top;\n",
       "    }\n",
       "\n",
       "    .dataframe thead th {\n",
       "        text-align: right;\n",
       "    }\n",
       "</style>\n",
       "<table border=\"1\" class=\"dataframe\">\n",
       "  <thead>\n",
       "    <tr style=\"text-align: right;\">\n",
       "      <th></th>\n",
       "      <th>Name</th>\n",
       "      <th>Description</th>\n",
       "      <th>SUBJID</th>\n",
       "      <th>Expression</th>\n",
       "      <th>SEX</th>\n",
       "      <th>AGE</th>\n",
       "      <th>DTHHRDY</th>\n",
       "    </tr>\n",
       "  </thead>\n",
       "  <tbody>\n",
       "    <tr>\n",
       "      <th>0</th>\n",
       "      <td>ENSG00000227232.5</td>\n",
       "      <td>WASH7P</td>\n",
       "      <td>GTEX-1117F</td>\n",
       "      <td>1.847200</td>\n",
       "      <td>2</td>\n",
       "      <td>65</td>\n",
       "      <td>4.0</td>\n",
       "    </tr>\n",
       "    <tr>\n",
       "      <th>1</th>\n",
       "      <td>ENSG00000268903.1</td>\n",
       "      <td>RP11-34P13.15</td>\n",
       "      <td>GTEX-1117F</td>\n",
       "      <td>-0.034206</td>\n",
       "      <td>2</td>\n",
       "      <td>65</td>\n",
       "      <td>4.0</td>\n",
       "    </tr>\n",
       "    <tr>\n",
       "      <th>2</th>\n",
       "      <td>ENSG00000269981.1</td>\n",
       "      <td>RP11-34P13.16</td>\n",
       "      <td>GTEX-1117F</td>\n",
       "      <td>0.376650</td>\n",
       "      <td>2</td>\n",
       "      <td>65</td>\n",
       "      <td>4.0</td>\n",
       "    </tr>\n",
       "    <tr>\n",
       "      <th>3</th>\n",
       "      <td>ENSG00000241860.6</td>\n",
       "      <td>RP11-34P13.13</td>\n",
       "      <td>GTEX-1117F</td>\n",
       "      <td>0.491370</td>\n",
       "      <td>2</td>\n",
       "      <td>65</td>\n",
       "      <td>4.0</td>\n",
       "    </tr>\n",
       "    <tr>\n",
       "      <th>4</th>\n",
       "      <td>ENSG00000279457.4</td>\n",
       "      <td>RP11-34P13.18</td>\n",
       "      <td>GTEX-1117F</td>\n",
       "      <td>1.173100</td>\n",
       "      <td>2</td>\n",
       "      <td>65</td>\n",
       "      <td>4.0</td>\n",
       "    </tr>\n",
       "    <tr>\n",
       "      <th>...</th>\n",
       "      <td>...</td>\n",
       "      <td>...</td>\n",
       "      <td>...</td>\n",
       "      <td>...</td>\n",
       "      <td>...</td>\n",
       "      <td>...</td>\n",
       "      <td>...</td>\n",
       "    </tr>\n",
       "    <tr>\n",
       "      <th>12899986</th>\n",
       "      <td>ENSG00000198886.2</td>\n",
       "      <td>MT-ND4</td>\n",
       "      <td>GTEX-ZZPU</td>\n",
       "      <td>-0.168170</td>\n",
       "      <td>2</td>\n",
       "      <td>55</td>\n",
       "      <td>0.0</td>\n",
       "    </tr>\n",
       "    <tr>\n",
       "      <th>12899987</th>\n",
       "      <td>ENSG00000198786.2</td>\n",
       "      <td>MT-ND5</td>\n",
       "      <td>GTEX-ZZPU</td>\n",
       "      <td>1.869200</td>\n",
       "      <td>2</td>\n",
       "      <td>55</td>\n",
       "      <td>0.0</td>\n",
       "    </tr>\n",
       "    <tr>\n",
       "      <th>12899988</th>\n",
       "      <td>ENSG00000198695.2</td>\n",
       "      <td>MT-ND6</td>\n",
       "      <td>GTEX-ZZPU</td>\n",
       "      <td>1.664600</td>\n",
       "      <td>2</td>\n",
       "      <td>55</td>\n",
       "      <td>0.0</td>\n",
       "    </tr>\n",
       "    <tr>\n",
       "      <th>12899989</th>\n",
       "      <td>ENSG00000210194.1</td>\n",
       "      <td>MT-TE</td>\n",
       "      <td>GTEX-ZZPU</td>\n",
       "      <td>1.356700</td>\n",
       "      <td>2</td>\n",
       "      <td>55</td>\n",
       "      <td>0.0</td>\n",
       "    </tr>\n",
       "    <tr>\n",
       "      <th>12899990</th>\n",
       "      <td>ENSG00000198727.2</td>\n",
       "      <td>MT-CYB</td>\n",
       "      <td>GTEX-ZZPU</td>\n",
       "      <td>0.584890</td>\n",
       "      <td>2</td>\n",
       "      <td>55</td>\n",
       "      <td>0.0</td>\n",
       "    </tr>\n",
       "  </tbody>\n",
       "</table>\n",
       "<p>12899991 rows × 7 columns</p>\n",
       "</div>"
      ],
      "text/plain": [
       "                       Name    Description      SUBJID  Expression  SEX  AGE  \\\n",
       "0         ENSG00000227232.5         WASH7P  GTEX-1117F    1.847200    2   65   \n",
       "1         ENSG00000268903.1  RP11-34P13.15  GTEX-1117F   -0.034206    2   65   \n",
       "2         ENSG00000269981.1  RP11-34P13.16  GTEX-1117F    0.376650    2   65   \n",
       "3         ENSG00000241860.6  RP11-34P13.13  GTEX-1117F    0.491370    2   65   \n",
       "4         ENSG00000279457.4  RP11-34P13.18  GTEX-1117F    1.173100    2   65   \n",
       "...                     ...            ...         ...         ...  ...  ...   \n",
       "12899986  ENSG00000198886.2         MT-ND4   GTEX-ZZPU   -0.168170    2   55   \n",
       "12899987  ENSG00000198786.2         MT-ND5   GTEX-ZZPU    1.869200    2   55   \n",
       "12899988  ENSG00000198695.2         MT-ND6   GTEX-ZZPU    1.664600    2   55   \n",
       "12899989  ENSG00000210194.1          MT-TE   GTEX-ZZPU    1.356700    2   55   \n",
       "12899990  ENSG00000198727.2         MT-CYB   GTEX-ZZPU    0.584890    2   55   \n",
       "\n",
       "          DTHHRDY  \n",
       "0             4.0  \n",
       "1             4.0  \n",
       "2             4.0  \n",
       "3             4.0  \n",
       "4             4.0  \n",
       "...           ...  \n",
       "12899986      0.0  \n",
       "12899987      0.0  \n",
       "12899988      0.0  \n",
       "12899989      0.0  \n",
       "12899990      0.0  \n",
       "\n",
       "[12899991 rows x 7 columns]"
      ]
     },
     "execution_count": 46,
     "metadata": {},
     "output_type": "execute_result"
    }
   ],
   "source": [
    "# 2. Merge with the phenotypes data\n",
    "merged_df = pd.merge(adipose_long, phenotypes, on='SUBJID')\n",
    "\n",
    "# Display the first and last few rows of the merged DataFrame\n",
    "merged_df"
   ]
  },
  {
   "cell_type": "code",
   "execution_count": 47,
   "id": "61963689-6f1c-4bd1-9027-6652973f309a",
   "metadata": {},
   "outputs": [
    {
     "data": {
      "text/plain": [
       "663"
      ]
     },
     "execution_count": 47,
     "metadata": {},
     "output_type": "execute_result"
    }
   ],
   "source": [
    "merged_df['SUBJID'].nunique()"
   ]
  },
  {
   "cell_type": "markdown",
   "id": "1076b1e6-317b-4008-810d-449a48e8e80b",
   "metadata": {},
   "source": [
    "With a default `inner join`, all 316 subject ids from the `phenotypes df` with no matching rows in `adipose_long df` are dropped. "
   ]
  },
  {
   "cell_type": "markdown",
   "id": "93f487ef-0d7e-4c02-bd73-41e02658fd01",
   "metadata": {},
   "source": [
    "* Merge `merged_df` with `gencode df`"
   ]
  },
  {
   "cell_type": "code",
   "execution_count": 50,
   "id": "d82e9520-d103-49d2-bec7-522e7f4ccf4f",
   "metadata": {},
   "outputs": [
    {
     "data": {
      "text/html": [
       "<div>\n",
       "<style scoped>\n",
       "    .dataframe tbody tr th:only-of-type {\n",
       "        vertical-align: middle;\n",
       "    }\n",
       "\n",
       "    .dataframe tbody tr th {\n",
       "        vertical-align: top;\n",
       "    }\n",
       "\n",
       "    .dataframe thead th {\n",
       "        text-align: right;\n",
       "    }\n",
       "</style>\n",
       "<table border=\"1\" class=\"dataframe\">\n",
       "  <thead>\n",
       "    <tr style=\"text-align: right;\">\n",
       "      <th></th>\n",
       "      <th>Name</th>\n",
       "      <th>Description</th>\n",
       "      <th>SUBJID</th>\n",
       "      <th>Expression</th>\n",
       "      <th>SEX</th>\n",
       "      <th>AGE</th>\n",
       "      <th>DTHHRDY</th>\n",
       "      <th>id</th>\n",
       "      <th>chromosome</th>\n",
       "      <th>position</th>\n",
       "      <th>name</th>\n",
       "      <th>type</th>\n",
       "    </tr>\n",
       "  </thead>\n",
       "  <tbody>\n",
       "    <tr>\n",
       "      <th>0</th>\n",
       "      <td>ENSG00000227232.5</td>\n",
       "      <td>WASH7P</td>\n",
       "      <td>GTEX-1117F</td>\n",
       "      <td>1.847200</td>\n",
       "      <td>2</td>\n",
       "      <td>65</td>\n",
       "      <td>4.0</td>\n",
       "      <td>ENSG00000227232.5</td>\n",
       "      <td>chr1</td>\n",
       "      <td>29570</td>\n",
       "      <td>WASH7P</td>\n",
       "      <td>unprocessed_pseudogene</td>\n",
       "    </tr>\n",
       "    <tr>\n",
       "      <th>1</th>\n",
       "      <td>ENSG00000268903.1</td>\n",
       "      <td>RP11-34P13.15</td>\n",
       "      <td>GTEX-1117F</td>\n",
       "      <td>-0.034206</td>\n",
       "      <td>2</td>\n",
       "      <td>65</td>\n",
       "      <td>4.0</td>\n",
       "      <td>ENSG00000268903.1</td>\n",
       "      <td>chr1</td>\n",
       "      <td>135895</td>\n",
       "      <td>RP11-34P13.15</td>\n",
       "      <td>processed_pseudogene</td>\n",
       "    </tr>\n",
       "    <tr>\n",
       "      <th>2</th>\n",
       "      <td>ENSG00000269981.1</td>\n",
       "      <td>RP11-34P13.16</td>\n",
       "      <td>GTEX-1117F</td>\n",
       "      <td>0.376650</td>\n",
       "      <td>2</td>\n",
       "      <td>65</td>\n",
       "      <td>4.0</td>\n",
       "      <td>ENSG00000269981.1</td>\n",
       "      <td>chr1</td>\n",
       "      <td>137965</td>\n",
       "      <td>RP11-34P13.16</td>\n",
       "      <td>processed_pseudogene</td>\n",
       "    </tr>\n",
       "    <tr>\n",
       "      <th>3</th>\n",
       "      <td>ENSG00000241860.6</td>\n",
       "      <td>RP11-34P13.13</td>\n",
       "      <td>GTEX-1117F</td>\n",
       "      <td>0.491370</td>\n",
       "      <td>2</td>\n",
       "      <td>65</td>\n",
       "      <td>4.0</td>\n",
       "      <td>ENSG00000241860.6</td>\n",
       "      <td>chr1</td>\n",
       "      <td>173862</td>\n",
       "      <td>RP11-34P13.13</td>\n",
       "      <td>processed_transcript</td>\n",
       "    </tr>\n",
       "    <tr>\n",
       "      <th>4</th>\n",
       "      <td>ENSG00000279457.4</td>\n",
       "      <td>RP11-34P13.18</td>\n",
       "      <td>GTEX-1117F</td>\n",
       "      <td>1.173100</td>\n",
       "      <td>2</td>\n",
       "      <td>65</td>\n",
       "      <td>4.0</td>\n",
       "      <td>ENSG00000279457.4</td>\n",
       "      <td>chr1</td>\n",
       "      <td>195411</td>\n",
       "      <td>RP11-34P13.18</td>\n",
       "      <td>unprocessed_pseudogene</td>\n",
       "    </tr>\n",
       "  </tbody>\n",
       "</table>\n",
       "</div>"
      ],
      "text/plain": [
       "                Name    Description      SUBJID  Expression  SEX  AGE  \\\n",
       "0  ENSG00000227232.5         WASH7P  GTEX-1117F    1.847200    2   65   \n",
       "1  ENSG00000268903.1  RP11-34P13.15  GTEX-1117F   -0.034206    2   65   \n",
       "2  ENSG00000269981.1  RP11-34P13.16  GTEX-1117F    0.376650    2   65   \n",
       "3  ENSG00000241860.6  RP11-34P13.13  GTEX-1117F    0.491370    2   65   \n",
       "4  ENSG00000279457.4  RP11-34P13.18  GTEX-1117F    1.173100    2   65   \n",
       "\n",
       "   DTHHRDY                 id chromosome  position           name  \\\n",
       "0      4.0  ENSG00000227232.5       chr1     29570         WASH7P   \n",
       "1      4.0  ENSG00000268903.1       chr1    135895  RP11-34P13.15   \n",
       "2      4.0  ENSG00000269981.1       chr1    137965  RP11-34P13.16   \n",
       "3      4.0  ENSG00000241860.6       chr1    173862  RP11-34P13.13   \n",
       "4      4.0  ENSG00000279457.4       chr1    195411  RP11-34P13.18   \n",
       "\n",
       "                     type  \n",
       "0  unprocessed_pseudogene  \n",
       "1    processed_pseudogene  \n",
       "2    processed_pseudogene  \n",
       "3    processed_transcript  \n",
       "4  unprocessed_pseudogene  "
      ]
     },
     "execution_count": 50,
     "metadata": {},
     "output_type": "execute_result"
    }
   ],
   "source": [
    "# Step 3: Merge the previously merged data with the gencode data\n",
    "final_merged_df = pd.merge(merged_df, gencode, left_on='Name', right_on='id', how='inner')\n",
    "\n",
    "# Display the first few rows of the final merged DataFrame\n",
    "final_merged_df.head()"
   ]
  },
  {
   "cell_type": "markdown",
   "id": "f1855567-c569-4ae6-8b97-8ea0e1fcfdd8",
   "metadata": {},
   "source": [
    "* Drop redundant columns"
   ]
  },
  {
   "cell_type": "code",
   "execution_count": 52,
   "id": "9ad6c4f5-80e6-46a7-97e5-d1324a76ad45",
   "metadata": {},
   "outputs": [],
   "source": [
    "# Drop the redundant 'id' and 'name' columns after merging\n",
    "final_merged_df.drop(columns=['id', 'name'], inplace=True)"
   ]
  },
  {
   "cell_type": "code",
   "execution_count": 53,
   "id": "5ed209b4-f37a-43da-a149-170086bdef35",
   "metadata": {},
   "outputs": [
    {
     "data": {
      "text/html": [
       "<div>\n",
       "<style scoped>\n",
       "    .dataframe tbody tr th:only-of-type {\n",
       "        vertical-align: middle;\n",
       "    }\n",
       "\n",
       "    .dataframe tbody tr th {\n",
       "        vertical-align: top;\n",
       "    }\n",
       "\n",
       "    .dataframe thead th {\n",
       "        text-align: right;\n",
       "    }\n",
       "</style>\n",
       "<table border=\"1\" class=\"dataframe\">\n",
       "  <thead>\n",
       "    <tr style=\"text-align: right;\">\n",
       "      <th></th>\n",
       "      <th>Name</th>\n",
       "      <th>Description</th>\n",
       "      <th>SUBJID</th>\n",
       "      <th>Expression</th>\n",
       "      <th>SEX</th>\n",
       "      <th>AGE</th>\n",
       "      <th>DTHHRDY</th>\n",
       "      <th>chromosome</th>\n",
       "      <th>position</th>\n",
       "      <th>type</th>\n",
       "    </tr>\n",
       "  </thead>\n",
       "  <tbody>\n",
       "    <tr>\n",
       "      <th>0</th>\n",
       "      <td>ENSG00000227232.5</td>\n",
       "      <td>WASH7P</td>\n",
       "      <td>GTEX-1117F</td>\n",
       "      <td>1.847200</td>\n",
       "      <td>2</td>\n",
       "      <td>65</td>\n",
       "      <td>4.0</td>\n",
       "      <td>chr1</td>\n",
       "      <td>29570</td>\n",
       "      <td>unprocessed_pseudogene</td>\n",
       "    </tr>\n",
       "    <tr>\n",
       "      <th>1</th>\n",
       "      <td>ENSG00000268903.1</td>\n",
       "      <td>RP11-34P13.15</td>\n",
       "      <td>GTEX-1117F</td>\n",
       "      <td>-0.034206</td>\n",
       "      <td>2</td>\n",
       "      <td>65</td>\n",
       "      <td>4.0</td>\n",
       "      <td>chr1</td>\n",
       "      <td>135895</td>\n",
       "      <td>processed_pseudogene</td>\n",
       "    </tr>\n",
       "    <tr>\n",
       "      <th>2</th>\n",
       "      <td>ENSG00000269981.1</td>\n",
       "      <td>RP11-34P13.16</td>\n",
       "      <td>GTEX-1117F</td>\n",
       "      <td>0.376650</td>\n",
       "      <td>2</td>\n",
       "      <td>65</td>\n",
       "      <td>4.0</td>\n",
       "      <td>chr1</td>\n",
       "      <td>137965</td>\n",
       "      <td>processed_pseudogene</td>\n",
       "    </tr>\n",
       "    <tr>\n",
       "      <th>3</th>\n",
       "      <td>ENSG00000241860.6</td>\n",
       "      <td>RP11-34P13.13</td>\n",
       "      <td>GTEX-1117F</td>\n",
       "      <td>0.491370</td>\n",
       "      <td>2</td>\n",
       "      <td>65</td>\n",
       "      <td>4.0</td>\n",
       "      <td>chr1</td>\n",
       "      <td>173862</td>\n",
       "      <td>processed_transcript</td>\n",
       "    </tr>\n",
       "    <tr>\n",
       "      <th>4</th>\n",
       "      <td>ENSG00000279457.4</td>\n",
       "      <td>RP11-34P13.18</td>\n",
       "      <td>GTEX-1117F</td>\n",
       "      <td>1.173100</td>\n",
       "      <td>2</td>\n",
       "      <td>65</td>\n",
       "      <td>4.0</td>\n",
       "      <td>chr1</td>\n",
       "      <td>195411</td>\n",
       "      <td>unprocessed_pseudogene</td>\n",
       "    </tr>\n",
       "  </tbody>\n",
       "</table>\n",
       "</div>"
      ],
      "text/plain": [
       "                Name    Description      SUBJID  Expression  SEX  AGE  \\\n",
       "0  ENSG00000227232.5         WASH7P  GTEX-1117F    1.847200    2   65   \n",
       "1  ENSG00000268903.1  RP11-34P13.15  GTEX-1117F   -0.034206    2   65   \n",
       "2  ENSG00000269981.1  RP11-34P13.16  GTEX-1117F    0.376650    2   65   \n",
       "3  ENSG00000241860.6  RP11-34P13.13  GTEX-1117F    0.491370    2   65   \n",
       "4  ENSG00000279457.4  RP11-34P13.18  GTEX-1117F    1.173100    2   65   \n",
       "\n",
       "   DTHHRDY chromosome  position                    type  \n",
       "0      4.0       chr1     29570  unprocessed_pseudogene  \n",
       "1      4.0       chr1    135895    processed_pseudogene  \n",
       "2      4.0       chr1    137965    processed_pseudogene  \n",
       "3      4.0       chr1    173862    processed_transcript  \n",
       "4      4.0       chr1    195411  unprocessed_pseudogene  "
      ]
     },
     "execution_count": 53,
     "metadata": {},
     "output_type": "execute_result"
    }
   ],
   "source": [
    "final_merged_df.head()"
   ]
  },
  {
   "cell_type": "markdown",
   "id": "cd4c0653-1210-49f3-9107-9c2ddcd42da2",
   "metadata": {},
   "source": [
    "* Final dataframe"
   ]
  },
  {
   "cell_type": "code",
   "execution_count": 55,
   "id": "9b9437f0-541c-4d96-83a0-e8255fe32218",
   "metadata": {},
   "outputs": [
    {
     "data": {
      "text/html": [
       "<div>\n",
       "<style scoped>\n",
       "    .dataframe tbody tr th:only-of-type {\n",
       "        vertical-align: middle;\n",
       "    }\n",
       "\n",
       "    .dataframe tbody tr th {\n",
       "        vertical-align: top;\n",
       "    }\n",
       "\n",
       "    .dataframe thead th {\n",
       "        text-align: right;\n",
       "    }\n",
       "</style>\n",
       "<table border=\"1\" class=\"dataframe\">\n",
       "  <thead>\n",
       "    <tr style=\"text-align: right;\">\n",
       "      <th></th>\n",
       "      <th>Name</th>\n",
       "      <th>Description</th>\n",
       "      <th>SUBJID</th>\n",
       "      <th>Expression</th>\n",
       "      <th>SEX</th>\n",
       "      <th>AGE</th>\n",
       "      <th>DTHHRDY</th>\n",
       "      <th>chromosome</th>\n",
       "      <th>position</th>\n",
       "      <th>type</th>\n",
       "    </tr>\n",
       "  </thead>\n",
       "  <tbody>\n",
       "    <tr>\n",
       "      <th>0</th>\n",
       "      <td>ENSG00000227232.5</td>\n",
       "      <td>WASH7P</td>\n",
       "      <td>GTEX-1117F</td>\n",
       "      <td>1.847200</td>\n",
       "      <td>2</td>\n",
       "      <td>65</td>\n",
       "      <td>4.0</td>\n",
       "      <td>chr1</td>\n",
       "      <td>29570</td>\n",
       "      <td>unprocessed_pseudogene</td>\n",
       "    </tr>\n",
       "    <tr>\n",
       "      <th>1</th>\n",
       "      <td>ENSG00000268903.1</td>\n",
       "      <td>RP11-34P13.15</td>\n",
       "      <td>GTEX-1117F</td>\n",
       "      <td>-0.034206</td>\n",
       "      <td>2</td>\n",
       "      <td>65</td>\n",
       "      <td>4.0</td>\n",
       "      <td>chr1</td>\n",
       "      <td>135895</td>\n",
       "      <td>processed_pseudogene</td>\n",
       "    </tr>\n",
       "    <tr>\n",
       "      <th>2</th>\n",
       "      <td>ENSG00000269981.1</td>\n",
       "      <td>RP11-34P13.16</td>\n",
       "      <td>GTEX-1117F</td>\n",
       "      <td>0.376650</td>\n",
       "      <td>2</td>\n",
       "      <td>65</td>\n",
       "      <td>4.0</td>\n",
       "      <td>chr1</td>\n",
       "      <td>137965</td>\n",
       "      <td>processed_pseudogene</td>\n",
       "    </tr>\n",
       "    <tr>\n",
       "      <th>3</th>\n",
       "      <td>ENSG00000241860.6</td>\n",
       "      <td>RP11-34P13.13</td>\n",
       "      <td>GTEX-1117F</td>\n",
       "      <td>0.491370</td>\n",
       "      <td>2</td>\n",
       "      <td>65</td>\n",
       "      <td>4.0</td>\n",
       "      <td>chr1</td>\n",
       "      <td>173862</td>\n",
       "      <td>processed_transcript</td>\n",
       "    </tr>\n",
       "    <tr>\n",
       "      <th>4</th>\n",
       "      <td>ENSG00000279457.4</td>\n",
       "      <td>RP11-34P13.18</td>\n",
       "      <td>GTEX-1117F</td>\n",
       "      <td>1.173100</td>\n",
       "      <td>2</td>\n",
       "      <td>65</td>\n",
       "      <td>4.0</td>\n",
       "      <td>chr1</td>\n",
       "      <td>195411</td>\n",
       "      <td>unprocessed_pseudogene</td>\n",
       "    </tr>\n",
       "  </tbody>\n",
       "</table>\n",
       "</div>"
      ],
      "text/plain": [
       "                Name    Description      SUBJID  Expression  SEX  AGE  \\\n",
       "0  ENSG00000227232.5         WASH7P  GTEX-1117F    1.847200    2   65   \n",
       "1  ENSG00000268903.1  RP11-34P13.15  GTEX-1117F   -0.034206    2   65   \n",
       "2  ENSG00000269981.1  RP11-34P13.16  GTEX-1117F    0.376650    2   65   \n",
       "3  ENSG00000241860.6  RP11-34P13.13  GTEX-1117F    0.491370    2   65   \n",
       "4  ENSG00000279457.4  RP11-34P13.18  GTEX-1117F    1.173100    2   65   \n",
       "\n",
       "   DTHHRDY chromosome  position                    type  \n",
       "0      4.0       chr1     29570  unprocessed_pseudogene  \n",
       "1      4.0       chr1    135895    processed_pseudogene  \n",
       "2      4.0       chr1    137965    processed_pseudogene  \n",
       "3      4.0       chr1    173862    processed_transcript  \n",
       "4      4.0       chr1    195411  unprocessed_pseudogene  "
      ]
     },
     "execution_count": 55,
     "metadata": {},
     "output_type": "execute_result"
    }
   ],
   "source": [
    "df = final_merged_df\n",
    "df.head()"
   ]
  },
  {
   "cell_type": "code",
   "execution_count": 56,
   "id": "3adbf0b4-2a08-4855-9eec-bf7e9446ac4e",
   "metadata": {},
   "outputs": [
    {
     "data": {
      "text/plain": [
       "(12899991, 10)"
      ]
     },
     "execution_count": 56,
     "metadata": {},
     "output_type": "execute_result"
    }
   ],
   "source": [
    "df.shape"
   ]
  },
  {
   "cell_type": "code",
   "execution_count": 57,
   "id": "73980c92-f628-4a21-b605-dfb89a22651f",
   "metadata": {},
   "outputs": [
    {
     "data": {
      "text/plain": [
       "19457"
      ]
     },
     "execution_count": 57,
     "metadata": {},
     "output_type": "execute_result"
    }
   ],
   "source": [
    "df['Description'].nunique()"
   ]
  },
  {
   "cell_type": "markdown",
   "id": "db74d260-92ae-498b-9690-f4daeed99130",
   "metadata": {},
   "source": [
    "With a default `inner join` here also, all 37013 gene names from the `gencode df` with no matching rows in `merged_df` are dropped. "
   ]
  },
  {
   "cell_type": "code",
   "execution_count": 59,
   "id": "0d8a6067-1148-43e2-ad5b-018f7ccc5a71",
   "metadata": {},
   "outputs": [
    {
     "name": "stdout",
     "output_type": "stream",
     "text": [
      "<class 'pandas.core.frame.DataFrame'>\n",
      "RangeIndex: 12899991 entries, 0 to 12899990\n",
      "Data columns (total 10 columns):\n",
      " #   Column       Dtype  \n",
      "---  ------       -----  \n",
      " 0   Name         object \n",
      " 1   Description  object \n",
      " 2   SUBJID       object \n",
      " 3   Expression   float64\n",
      " 4   SEX          int64  \n",
      " 5   AGE          int64  \n",
      " 6   DTHHRDY      float64\n",
      " 7   chromosome   object \n",
      " 8   position     int64  \n",
      " 9   type         object \n",
      "dtypes: float64(2), int64(3), object(5)\n",
      "memory usage: 984.2+ MB\n"
     ]
    }
   ],
   "source": [
    "df.info()"
   ]
  },
  {
   "cell_type": "markdown",
   "id": "aac58dfd-6dfe-43bd-b5ed-6049879de4cd",
   "metadata": {},
   "source": [
    "* **Summary statistics on combined datatframe**"
   ]
  },
  {
   "cell_type": "code",
   "execution_count": 61,
   "id": "b96d1dc4-c24d-4a47-a05c-fbd88704fd31",
   "metadata": {},
   "outputs": [
    {
     "data": {
      "text/html": [
       "<div>\n",
       "<style scoped>\n",
       "    .dataframe tbody tr th:only-of-type {\n",
       "        vertical-align: middle;\n",
       "    }\n",
       "\n",
       "    .dataframe tbody tr th {\n",
       "        vertical-align: top;\n",
       "    }\n",
       "\n",
       "    .dataframe thead th {\n",
       "        text-align: right;\n",
       "    }\n",
       "</style>\n",
       "<table border=\"1\" class=\"dataframe\">\n",
       "  <thead>\n",
       "    <tr style=\"text-align: right;\">\n",
       "      <th></th>\n",
       "      <th>count</th>\n",
       "      <th>mean</th>\n",
       "      <th>std</th>\n",
       "      <th>min</th>\n",
       "      <th>25%</th>\n",
       "      <th>50%</th>\n",
       "      <th>75%</th>\n",
       "      <th>max</th>\n",
       "    </tr>\n",
       "    <tr>\n",
       "      <th>Description</th>\n",
       "      <th></th>\n",
       "      <th></th>\n",
       "      <th></th>\n",
       "      <th></th>\n",
       "      <th></th>\n",
       "      <th></th>\n",
       "      <th></th>\n",
       "      <th></th>\n",
       "    </tr>\n",
       "  </thead>\n",
       "  <tbody>\n",
       "    <tr>\n",
       "      <th>A1BG</th>\n",
       "      <td>663.0</td>\n",
       "      <td>0.000959</td>\n",
       "      <td>0.972418</td>\n",
       "      <td>-2.9434</td>\n",
       "      <td>-0.646655</td>\n",
       "      <td>-0.012208</td>\n",
       "      <td>0.661775</td>\n",
       "      <td>2.9434</td>\n",
       "    </tr>\n",
       "    <tr>\n",
       "      <th>A1BG-AS1</th>\n",
       "      <td>663.0</td>\n",
       "      <td>0.000231</td>\n",
       "      <td>0.950058</td>\n",
       "      <td>-2.9295</td>\n",
       "      <td>-0.620690</td>\n",
       "      <td>-0.010640</td>\n",
       "      <td>0.625860</td>\n",
       "      <td>2.9295</td>\n",
       "    </tr>\n",
       "    <tr>\n",
       "      <th>A2M</th>\n",
       "      <td>663.0</td>\n",
       "      <td>0.011084</td>\n",
       "      <td>0.990547</td>\n",
       "      <td>-2.9523</td>\n",
       "      <td>-0.664595</td>\n",
       "      <td>0.007907</td>\n",
       "      <td>0.684450</td>\n",
       "      <td>2.9523</td>\n",
       "    </tr>\n",
       "    <tr>\n",
       "      <th>A2M-AS1</th>\n",
       "      <td>663.0</td>\n",
       "      <td>-0.001138</td>\n",
       "      <td>0.987071</td>\n",
       "      <td>-2.9527</td>\n",
       "      <td>-0.660925</td>\n",
       "      <td>-0.013817</td>\n",
       "      <td>0.665845</td>\n",
       "      <td>2.9527</td>\n",
       "    </tr>\n",
       "    <tr>\n",
       "      <th>A2ML1</th>\n",
       "      <td>663.0</td>\n",
       "      <td>-0.042765</td>\n",
       "      <td>0.952150</td>\n",
       "      <td>-2.9252</td>\n",
       "      <td>-0.673135</td>\n",
       "      <td>-0.062599</td>\n",
       "      <td>0.578660</td>\n",
       "      <td>2.9252</td>\n",
       "    </tr>\n",
       "    <tr>\n",
       "      <th>...</th>\n",
       "      <td>...</td>\n",
       "      <td>...</td>\n",
       "      <td>...</td>\n",
       "      <td>...</td>\n",
       "      <td>...</td>\n",
       "      <td>...</td>\n",
       "      <td>...</td>\n",
       "      <td>...</td>\n",
       "    </tr>\n",
       "    <tr>\n",
       "      <th>ZZEF1</th>\n",
       "      <td>663.0</td>\n",
       "      <td>-0.018988</td>\n",
       "      <td>0.929437</td>\n",
       "      <td>-2.9006</td>\n",
       "      <td>-0.626900</td>\n",
       "      <td>-0.021007</td>\n",
       "      <td>0.571045</td>\n",
       "      <td>2.9006</td>\n",
       "    </tr>\n",
       "    <tr>\n",
       "      <th>ZZZ3</th>\n",
       "      <td>663.0</td>\n",
       "      <td>0.071681</td>\n",
       "      <td>0.921230</td>\n",
       "      <td>-2.8838</td>\n",
       "      <td>-0.491900</td>\n",
       "      <td>0.081346</td>\n",
       "      <td>0.682240</td>\n",
       "      <td>2.8838</td>\n",
       "    </tr>\n",
       "    <tr>\n",
       "      <th>bP-21264C1.1</th>\n",
       "      <td>663.0</td>\n",
       "      <td>-0.013497</td>\n",
       "      <td>0.992699</td>\n",
       "      <td>-2.9503</td>\n",
       "      <td>-0.654645</td>\n",
       "      <td>-0.007958</td>\n",
       "      <td>0.649725</td>\n",
       "      <td>2.9503</td>\n",
       "    </tr>\n",
       "    <tr>\n",
       "      <th>bP-2189O9.2</th>\n",
       "      <td>663.0</td>\n",
       "      <td>-0.013662</td>\n",
       "      <td>0.978241</td>\n",
       "      <td>-2.9449</td>\n",
       "      <td>-0.685975</td>\n",
       "      <td>-0.018224</td>\n",
       "      <td>0.645540</td>\n",
       "      <td>2.9449</td>\n",
       "    </tr>\n",
       "    <tr>\n",
       "      <th>uc_338</th>\n",
       "      <td>663.0</td>\n",
       "      <td>-0.008536</td>\n",
       "      <td>0.994625</td>\n",
       "      <td>-2.9532</td>\n",
       "      <td>-0.681935</td>\n",
       "      <td>-0.003941</td>\n",
       "      <td>0.662175</td>\n",
       "      <td>2.9532</td>\n",
       "    </tr>\n",
       "  </tbody>\n",
       "</table>\n",
       "<p>19457 rows × 8 columns</p>\n",
       "</div>"
      ],
      "text/plain": [
       "              count      mean       std     min       25%       50%       75%  \\\n",
       "Description                                                                     \n",
       "A1BG          663.0  0.000959  0.972418 -2.9434 -0.646655 -0.012208  0.661775   \n",
       "A1BG-AS1      663.0  0.000231  0.950058 -2.9295 -0.620690 -0.010640  0.625860   \n",
       "A2M           663.0  0.011084  0.990547 -2.9523 -0.664595  0.007907  0.684450   \n",
       "A2M-AS1       663.0 -0.001138  0.987071 -2.9527 -0.660925 -0.013817  0.665845   \n",
       "A2ML1         663.0 -0.042765  0.952150 -2.9252 -0.673135 -0.062599  0.578660   \n",
       "...             ...       ...       ...     ...       ...       ...       ...   \n",
       "ZZEF1         663.0 -0.018988  0.929437 -2.9006 -0.626900 -0.021007  0.571045   \n",
       "ZZZ3          663.0  0.071681  0.921230 -2.8838 -0.491900  0.081346  0.682240   \n",
       "bP-21264C1.1  663.0 -0.013497  0.992699 -2.9503 -0.654645 -0.007958  0.649725   \n",
       "bP-2189O9.2   663.0 -0.013662  0.978241 -2.9449 -0.685975 -0.018224  0.645540   \n",
       "uc_338        663.0 -0.008536  0.994625 -2.9532 -0.681935 -0.003941  0.662175   \n",
       "\n",
       "                 max  \n",
       "Description           \n",
       "A1BG          2.9434  \n",
       "A1BG-AS1      2.9295  \n",
       "A2M           2.9523  \n",
       "A2M-AS1       2.9527  \n",
       "A2ML1         2.9252  \n",
       "...              ...  \n",
       "ZZEF1         2.9006  \n",
       "ZZZ3          2.8838  \n",
       "bP-21264C1.1  2.9503  \n",
       "bP-2189O9.2   2.9449  \n",
       "uc_338        2.9532  \n",
       "\n",
       "[19457 rows x 8 columns]"
      ]
     },
     "execution_count": 61,
     "metadata": {},
     "output_type": "execute_result"
    }
   ],
   "source": [
    "# Group by gene and calculate mean expression for each gene\n",
    "gene_summary = df.groupby('Description')['Expression'].describe()\n",
    "gene_summary"
   ]
  },
  {
   "cell_type": "markdown",
   "id": "eb3a051e-e104-4154-975c-84f223435946",
   "metadata": {},
   "source": [
    "* Check for missing values"
   ]
  },
  {
   "cell_type": "code",
   "execution_count": 63,
   "id": "00cab89e-d3c6-458f-bdb4-0f5c53491886",
   "metadata": {},
   "outputs": [
    {
     "data": {
      "text/plain": [
       "233484"
      ]
     },
     "execution_count": 63,
     "metadata": {},
     "output_type": "execute_result"
    }
   ],
   "source": [
    "df.isna().any(axis=1).sum()"
   ]
  },
  {
   "cell_type": "code",
   "execution_count": 64,
   "id": "6bc1f613-d6c2-4bf2-981e-416acd3eb179",
   "metadata": {},
   "outputs": [
    {
     "data": {
      "text/plain": [
       "Name                0\n",
       "Description         0\n",
       "SUBJID              0\n",
       "Expression          0\n",
       "SEX                 0\n",
       "AGE                 0\n",
       "DTHHRDY        233484\n",
       "chromosome          0\n",
       "position            0\n",
       "type                0\n",
       "dtype: int64"
      ]
     },
     "execution_count": 64,
     "metadata": {},
     "output_type": "execute_result"
    }
   ],
   "source": [
    "df.isna().sum()"
   ]
  },
  {
   "cell_type": "markdown",
   "id": "ffefb57e-c185-4577-8b8a-5adf7d5debd9",
   "metadata": {},
   "source": [
    "Since the regression analysis is NOT focused on the `DTHHRDY` column, I may not need to drop missing rows, as i do not want to reduce the statistical power of my analysis."
   ]
  },
  {
   "cell_type": "markdown",
   "id": "c0c06045-9999-4e95-96b7-d9e0d0fc3d57",
   "metadata": {},
   "source": [
    "* Rename columns for better description"
   ]
  },
  {
   "cell_type": "code",
   "execution_count": 67,
   "id": "3fdae01f-f545-4981-97a0-37d78f2b3c89",
   "metadata": {},
   "outputs": [
    {
     "data": {
      "text/html": [
       "<div>\n",
       "<style scoped>\n",
       "    .dataframe tbody tr th:only-of-type {\n",
       "        vertical-align: middle;\n",
       "    }\n",
       "\n",
       "    .dataframe tbody tr th {\n",
       "        vertical-align: top;\n",
       "    }\n",
       "\n",
       "    .dataframe thead th {\n",
       "        text-align: right;\n",
       "    }\n",
       "</style>\n",
       "<table border=\"1\" class=\"dataframe\">\n",
       "  <thead>\n",
       "    <tr style=\"text-align: right;\">\n",
       "      <th></th>\n",
       "      <th>Gene_id</th>\n",
       "      <th>Gene</th>\n",
       "      <th>Subject_id</th>\n",
       "      <th>Expression</th>\n",
       "      <th>Sex</th>\n",
       "      <th>Age</th>\n",
       "      <th>Death_history</th>\n",
       "      <th>Chromosome</th>\n",
       "      <th>Position</th>\n",
       "      <th>Type</th>\n",
       "    </tr>\n",
       "  </thead>\n",
       "  <tbody>\n",
       "    <tr>\n",
       "      <th>0</th>\n",
       "      <td>ENSG00000227232.5</td>\n",
       "      <td>WASH7P</td>\n",
       "      <td>GTEX-1117F</td>\n",
       "      <td>1.847200</td>\n",
       "      <td>2</td>\n",
       "      <td>65</td>\n",
       "      <td>4.0</td>\n",
       "      <td>chr1</td>\n",
       "      <td>29570</td>\n",
       "      <td>unprocessed_pseudogene</td>\n",
       "    </tr>\n",
       "    <tr>\n",
       "      <th>1</th>\n",
       "      <td>ENSG00000268903.1</td>\n",
       "      <td>RP11-34P13.15</td>\n",
       "      <td>GTEX-1117F</td>\n",
       "      <td>-0.034206</td>\n",
       "      <td>2</td>\n",
       "      <td>65</td>\n",
       "      <td>4.0</td>\n",
       "      <td>chr1</td>\n",
       "      <td>135895</td>\n",
       "      <td>processed_pseudogene</td>\n",
       "    </tr>\n",
       "    <tr>\n",
       "      <th>2</th>\n",
       "      <td>ENSG00000269981.1</td>\n",
       "      <td>RP11-34P13.16</td>\n",
       "      <td>GTEX-1117F</td>\n",
       "      <td>0.376650</td>\n",
       "      <td>2</td>\n",
       "      <td>65</td>\n",
       "      <td>4.0</td>\n",
       "      <td>chr1</td>\n",
       "      <td>137965</td>\n",
       "      <td>processed_pseudogene</td>\n",
       "    </tr>\n",
       "    <tr>\n",
       "      <th>3</th>\n",
       "      <td>ENSG00000241860.6</td>\n",
       "      <td>RP11-34P13.13</td>\n",
       "      <td>GTEX-1117F</td>\n",
       "      <td>0.491370</td>\n",
       "      <td>2</td>\n",
       "      <td>65</td>\n",
       "      <td>4.0</td>\n",
       "      <td>chr1</td>\n",
       "      <td>173862</td>\n",
       "      <td>processed_transcript</td>\n",
       "    </tr>\n",
       "    <tr>\n",
       "      <th>4</th>\n",
       "      <td>ENSG00000279457.4</td>\n",
       "      <td>RP11-34P13.18</td>\n",
       "      <td>GTEX-1117F</td>\n",
       "      <td>1.173100</td>\n",
       "      <td>2</td>\n",
       "      <td>65</td>\n",
       "      <td>4.0</td>\n",
       "      <td>chr1</td>\n",
       "      <td>195411</td>\n",
       "      <td>unprocessed_pseudogene</td>\n",
       "    </tr>\n",
       "  </tbody>\n",
       "</table>\n",
       "</div>"
      ],
      "text/plain": [
       "             Gene_id           Gene  Subject_id  Expression  Sex  Age  \\\n",
       "0  ENSG00000227232.5         WASH7P  GTEX-1117F    1.847200    2   65   \n",
       "1  ENSG00000268903.1  RP11-34P13.15  GTEX-1117F   -0.034206    2   65   \n",
       "2  ENSG00000269981.1  RP11-34P13.16  GTEX-1117F    0.376650    2   65   \n",
       "3  ENSG00000241860.6  RP11-34P13.13  GTEX-1117F    0.491370    2   65   \n",
       "4  ENSG00000279457.4  RP11-34P13.18  GTEX-1117F    1.173100    2   65   \n",
       "\n",
       "   Death_history Chromosome  Position                    Type  \n",
       "0            4.0       chr1     29570  unprocessed_pseudogene  \n",
       "1            4.0       chr1    135895    processed_pseudogene  \n",
       "2            4.0       chr1    137965    processed_pseudogene  \n",
       "3            4.0       chr1    173862    processed_transcript  \n",
       "4            4.0       chr1    195411  unprocessed_pseudogene  "
      ]
     },
     "execution_count": 67,
     "metadata": {},
     "output_type": "execute_result"
    }
   ],
   "source": [
    "# Rename columns\n",
    "df.rename(columns={\n",
    "    'Description': 'Gene',\n",
    "    'Name': 'Gene_id',\n",
    "    'chromosome': 'Chromosome',\n",
    "    'SUBJID': 'Subject_id',\n",
    "    'type': 'Type',\n",
    "    'position': 'Position',\n",
    "    'SEX': 'Sex',\n",
    "    'AGE': 'Age',\n",
    "    'DTHHRDY': 'Death_history'\n",
    "}, inplace=True)\n",
    "\n",
    "# Display the first few rows to confirm the changes\n",
    "df.head()"
   ]
  },
  {
   "cell_type": "markdown",
   "id": "a942e70b-ea45-44b4-8188-bcb2f40c0d01",
   "metadata": {},
   "source": [
    "---"
   ]
  },
  {
   "cell_type": "markdown",
   "id": "68d5b884-1f69-4941-9788-7d04c1429659",
   "metadata": {},
   "source": [
    "#### Isolate gene"
   ]
  },
  {
   "cell_type": "markdown",
   "id": "0ff62b3d-571f-433c-89bf-d2be1dc82eb7",
   "metadata": {},
   "source": [
    "* Isolate gene column for names"
   ]
  },
  {
   "cell_type": "code",
   "execution_count": 71,
   "id": "186c588a-fa69-4a17-afef-1dbc66ffc3e4",
   "metadata": {},
   "outputs": [
    {
     "data": {
      "text/plain": [
       "0           WASH7P\n",
       "1    RP11-34P13.15\n",
       "2    RP11-34P13.16\n",
       "3    RP11-34P13.13\n",
       "4    RP11-34P13.18\n",
       "5       AP006222.2\n",
       "6    RP4-669L17.10\n",
       "7         MTND1P23\n",
       "8         MTND2P28\n",
       "9         MTCO1P12\n",
       "Name: Description, dtype: object"
      ]
     },
     "execution_count": 71,
     "metadata": {},
     "output_type": "execute_result"
    }
   ],
   "source": [
    "# Keep track of the gene names in 'Description' for later reference during analysis\n",
    "gene_names = adipose['Description']\n",
    "gene_names.head(10)"
   ]
  },
  {
   "cell_type": "markdown",
   "id": "612da90e-b980-436e-8604-af0b6276f097",
   "metadata": {},
   "source": [
    "* Check if gene of interest is present in the gene subset df"
   ]
  },
  {
   "cell_type": "code",
   "execution_count": 73,
   "id": "7cfe182f-a3b7-4e13-b329-9e116e1be8a1",
   "metadata": {},
   "outputs": [
    {
     "name": "stdout",
     "output_type": "stream",
     "text": [
      "gene present in data\n"
     ]
    }
   ],
   "source": [
    "# Check if gene exists in gene df subset\n",
    "gene = 'SALL1'\n",
    "\n",
    "if gene in gene_names.values:\n",
    "    print(\"gene present in data\")\n",
    "else:\n",
    "    print(\"gene Not present in data\")"
   ]
  },
  {
   "cell_type": "markdown",
   "id": "b93daadf-5cca-4542-98fb-756c42afd160",
   "metadata": {},
   "source": [
    "* **Gene - SALL1**"
   ]
  },
  {
   "cell_type": "code",
   "execution_count": 75,
   "id": "6586ae33-fc0a-4521-9f1f-1bbeee3ad06e",
   "metadata": {},
   "outputs": [
    {
     "data": {
      "text/html": [
       "<div>\n",
       "<style scoped>\n",
       "    .dataframe tbody tr th:only-of-type {\n",
       "        vertical-align: middle;\n",
       "    }\n",
       "\n",
       "    .dataframe tbody tr th {\n",
       "        vertical-align: top;\n",
       "    }\n",
       "\n",
       "    .dataframe thead th {\n",
       "        text-align: right;\n",
       "    }\n",
       "</style>\n",
       "<table border=\"1\" class=\"dataframe\">\n",
       "  <thead>\n",
       "    <tr style=\"text-align: right;\">\n",
       "      <th></th>\n",
       "      <th>Gene_id</th>\n",
       "      <th>Gene</th>\n",
       "      <th>Subject_id</th>\n",
       "      <th>Expression</th>\n",
       "      <th>Sex</th>\n",
       "      <th>Age</th>\n",
       "      <th>Death_history</th>\n",
       "      <th>Chromosome</th>\n",
       "      <th>Position</th>\n",
       "      <th>Type</th>\n",
       "    </tr>\n",
       "  </thead>\n",
       "  <tbody>\n",
       "    <tr>\n",
       "      <th>0</th>\n",
       "      <td>ENSG00000103449.11</td>\n",
       "      <td>SALL1</td>\n",
       "      <td>GTEX-1117F</td>\n",
       "      <td>0.086272</td>\n",
       "      <td>2</td>\n",
       "      <td>65</td>\n",
       "      <td>4.0</td>\n",
       "      <td>chr16</td>\n",
       "      <td>51151367</td>\n",
       "      <td>protein_coding</td>\n",
       "    </tr>\n",
       "    <tr>\n",
       "      <th>1</th>\n",
       "      <td>ENSG00000103449.11</td>\n",
       "      <td>SALL1</td>\n",
       "      <td>GTEX-111CU</td>\n",
       "      <td>-0.787050</td>\n",
       "      <td>1</td>\n",
       "      <td>55</td>\n",
       "      <td>0.0</td>\n",
       "      <td>chr16</td>\n",
       "      <td>51151367</td>\n",
       "      <td>protein_coding</td>\n",
       "    </tr>\n",
       "    <tr>\n",
       "      <th>2</th>\n",
       "      <td>ENSG00000103449.11</td>\n",
       "      <td>SALL1</td>\n",
       "      <td>GTEX-111FC</td>\n",
       "      <td>-1.509200</td>\n",
       "      <td>1</td>\n",
       "      <td>65</td>\n",
       "      <td>1.0</td>\n",
       "      <td>chr16</td>\n",
       "      <td>51151367</td>\n",
       "      <td>protein_coding</td>\n",
       "    </tr>\n",
       "    <tr>\n",
       "      <th>3</th>\n",
       "      <td>ENSG00000103449.11</td>\n",
       "      <td>SALL1</td>\n",
       "      <td>GTEX-111VG</td>\n",
       "      <td>-0.607150</td>\n",
       "      <td>1</td>\n",
       "      <td>65</td>\n",
       "      <td>3.0</td>\n",
       "      <td>chr16</td>\n",
       "      <td>51151367</td>\n",
       "      <td>protein_coding</td>\n",
       "    </tr>\n",
       "    <tr>\n",
       "      <th>4</th>\n",
       "      <td>ENSG00000103449.11</td>\n",
       "      <td>SALL1</td>\n",
       "      <td>GTEX-111YS</td>\n",
       "      <td>-0.406500</td>\n",
       "      <td>1</td>\n",
       "      <td>65</td>\n",
       "      <td>0.0</td>\n",
       "      <td>chr16</td>\n",
       "      <td>51151367</td>\n",
       "      <td>protein_coding</td>\n",
       "    </tr>\n",
       "  </tbody>\n",
       "</table>\n",
       "</div>"
      ],
      "text/plain": [
       "              Gene_id   Gene  Subject_id  Expression  Sex  Age  Death_history  \\\n",
       "0  ENSG00000103449.11  SALL1  GTEX-1117F    0.086272    2   65            4.0   \n",
       "1  ENSG00000103449.11  SALL1  GTEX-111CU   -0.787050    1   55            0.0   \n",
       "2  ENSG00000103449.11  SALL1  GTEX-111FC   -1.509200    1   65            1.0   \n",
       "3  ENSG00000103449.11  SALL1  GTEX-111VG   -0.607150    1   65            3.0   \n",
       "4  ENSG00000103449.11  SALL1  GTEX-111YS   -0.406500    1   65            0.0   \n",
       "\n",
       "  Chromosome  Position            Type  \n",
       "0      chr16  51151367  protein_coding  \n",
       "1      chr16  51151367  protein_coding  \n",
       "2      chr16  51151367  protein_coding  \n",
       "3      chr16  51151367  protein_coding  \n",
       "4      chr16  51151367  protein_coding  "
      ]
     },
     "execution_count": 75,
     "metadata": {},
     "output_type": "execute_result"
    }
   ],
   "source": [
    "# Filter the DataFrame for the selected gene\n",
    "gene_df1 = df[df['Gene'] == 'SALL1']\n",
    "\n",
    "# Reset the index after filtering\n",
    "gene_df1.reset_index(drop=True, inplace=True)\n",
    "\n",
    "# Display the filtered DataFrame\n",
    "gene_df1.head()"
   ]
  },
  {
   "cell_type": "code",
   "execution_count": 76,
   "id": "471cd224-5da8-4b7f-86c3-6a18e443217e",
   "metadata": {},
   "outputs": [
    {
     "data": {
      "text/plain": [
       "(663, 10)"
      ]
     },
     "execution_count": 76,
     "metadata": {},
     "output_type": "execute_result"
    }
   ],
   "source": [
    "gene_df1.shape"
   ]
  },
  {
   "cell_type": "markdown",
   "id": "bb5b0296-5a0c-4238-bbe3-adc81faddfce",
   "metadata": {},
   "source": [
    "---"
   ]
  },
  {
   "cell_type": "markdown",
   "id": "65bad4d6-b98a-4e54-ace7-882a31edad0b",
   "metadata": {},
   "source": [
    "### Exploratory data analysis"
   ]
  },
  {
   "cell_type": "markdown",
   "id": "561a77f1-98ff-4b5a-965b-3f99702c8d54",
   "metadata": {},
   "source": [
    "* Summary Statistics"
   ]
  },
  {
   "cell_type": "code",
   "execution_count": 80,
   "id": "54cc25ac-b6cb-44e9-adc8-f614c4eedf66",
   "metadata": {},
   "outputs": [
    {
     "data": {
      "text/plain": [
       "count    663.000000\n",
       "mean      -0.014090\n",
       "std        1.007940\n",
       "min       -2.955200\n",
       "25%       -0.686840\n",
       "50%       -0.007833\n",
       "75%        0.667135\n",
       "max        2.955200\n",
       "Name: Expression, dtype: float64"
      ]
     },
     "execution_count": 80,
     "metadata": {},
     "output_type": "execute_result"
    }
   ],
   "source": [
    "# Summary statistics\n",
    "gene_df1['Expression'].describe()"
   ]
  },
  {
   "cell_type": "markdown",
   "id": "eaaa03a7-f5fe-43ee-87e9-c3e5e798502e",
   "metadata": {},
   "source": [
    "The expression levels of **SALL1** appear to be normally distributed, with **a mean close to zero** and a **standard deviation of around 1**. This suggests that the expression values are centered around the mean with a relatively balanced spread.  \n",
    "\n",
    "The range of expression levels is between `-2.955 and 2.955`, indicating some variability in the data."
   ]
  },
  {
   "cell_type": "markdown",
   "id": "604e697b-0df4-4e00-b89f-bc843dd63b14",
   "metadata": {},
   "source": [
    "* Value count for `Sex column`; values encoded as 1 for male, and 2 for female."
   ]
  },
  {
   "cell_type": "code",
   "execution_count": 83,
   "id": "1e36785b-8738-434e-bb08-5e6a99936975",
   "metadata": {},
   "outputs": [
    {
     "data": {
      "text/plain": [
       "Sex\n",
       "1    445\n",
       "2    218\n",
       "Name: count, dtype: int64"
      ]
     },
     "execution_count": 83,
     "metadata": {},
     "output_type": "execute_result"
    }
   ],
   "source": [
    "# Distribution of sex\n",
    "gene_df1['Sex'].value_counts()"
   ]
  },
  {
   "cell_type": "markdown",
   "id": "903193e8-3ed8-4e19-864e-91e44d1af6d9",
   "metadata": {},
   "source": [
    "There are **445 males and 218 females** in this subset data, giving a sex ratio of approximately 2:1, which should be kept in mind during the analysis."
   ]
  },
  {
   "cell_type": "markdown",
   "id": "a4b36e2e-5f5b-41a3-aab8-e4618556869f",
   "metadata": {},
   "source": [
    "* Distribution of Gene Expression Levels"
   ]
  },
  {
   "cell_type": "code",
   "execution_count": 86,
   "id": "444a9352-18fb-476f-871e-833fae62d389",
   "metadata": {},
   "outputs": [
    {
     "data": {
      "image/png": "[encoded data removed]",
      "text/plain": [
       "<Figure size 640x480 with 1 Axes>"
      ]
     },
     "metadata": {},
     "output_type": "display_data"
    }
   ],
   "source": [
    "# Plot distribution of expression levels\n",
    "sns.histplot(gene_df1['Expression'], kde=True)\n",
    "plt.title('Distribution of Gene Expression Levels (SALL1)')\n",
    "plt.show()"
   ]
  },
  {
   "cell_type": "markdown",
   "id": "b2d4a21b-22fa-412d-a16b-1287bf8dd938",
   "metadata": {},
   "source": [
    "Expression levels for gene SALL1 are approximately normally distributed"
   ]
  },
  {
   "cell_type": "code",
   "execution_count": 209,
   "id": "decb69b7-9dbe-434b-9162-ee1970293724",
   "metadata": {},
   "outputs": [
    {
     "data": {
      "image/png": "[encoded data removed]",
      "text/plain": [
       "<Figure size 640x480 with 1 Axes>"
      ]
     },
     "metadata": {},
     "output_type": "display_data"
    }
   ],
   "source": [
    "# Boxplot for sex vs. gene expression\n",
    "sns.boxplot(x='Sex', y='Expression', data=gene_df1, hue='Sex')\n",
    "plt.title('Gene Expression Levels by Sex (SALL1)')\n",
    "plt.show()"
   ]
  },
  {
   "cell_type": "markdown",
   "id": "082e7326-9c42-4b8b-a278-65d8bbb0b3fe",
   "metadata": {},
   "source": [
    "The boxplot show some **outliers** in gene expression levels for both males and females. These outliers could influence the results of the regression, so it may be useful to investigate or address them before running the model (e.g., by removing them, analyzing separately, or transforming the data)."
   ]
  },
  {
   "cell_type": "code",
   "execution_count": 195,
   "id": "5f6d8d49-66a7-4281-99e8-a3b1fe423e26",
   "metadata": {},
   "outputs": [
    {
     "data": {
      "image/png": "[encoded data removed]",
      "text/plain": [
       "<Figure size 640x480 with 1 Axes>"
      ]
     },
     "metadata": {},
     "output_type": "display_data"
    }
   ],
   "source": [
    "# Violin plot to check the distribution\n",
    "sns.violinplot(x='Sex', y='Expression', hue='Sex', data=gene_df1)\n",
    "plt.title('Gene Expression Levels by Sex (SALL1)')\n",
    "plt.show()"
   ]
  },
  {
   "cell_type": "markdown",
   "id": "9a8a3ee1-c8a6-4c91-a177-be1b6092427a",
   "metadata": {},
   "source": [
    "* Median `Expression` values by `Sex`"
   ]
  },
  {
   "cell_type": "code",
   "execution_count": 92,
   "id": "ad123440-7e84-4afe-8269-0e9e14e422a7",
   "metadata": {},
   "outputs": [
    {
     "data": {
      "text/plain": [
       "Sex\n",
       "1   -0.28176\n",
       "2    0.65254\n",
       "Name: Expression, dtype: float64"
      ]
     },
     "execution_count": 92,
     "metadata": {},
     "output_type": "execute_result"
    }
   ],
   "source": [
    "gene_df1.groupby('Sex')['Expression'].median()"
   ]
  },
  {
   "cell_type": "markdown",
   "id": "57a95ab9-652d-4ffc-97bc-7bb0b294b6d1",
   "metadata": {},
   "source": [
    "* Mean `Expression` values by `Sex`"
   ]
  },
  {
   "cell_type": "code",
   "execution_count": 94,
   "id": "3e31cc27-ce83-447c-83fe-49cffb1402fa",
   "metadata": {},
   "outputs": [
    {
     "data": {
      "text/plain": [
       "Sex\n",
       "1   -0.316596\n",
       "2    0.603411\n",
       "Name: Expression, dtype: float64"
      ]
     },
     "execution_count": 94,
     "metadata": {},
     "output_type": "execute_result"
    }
   ],
   "source": [
    "gene_df1.groupby('Sex')['Expression'].mean()"
   ]
  },
  {
   "cell_type": "markdown",
   "id": "39ff95a7-e3a7-4b3e-b266-e29674fec7e5",
   "metadata": {},
   "source": [
    "Both the mean and median expression values for females are higher than those for males, suggesting that there might be a noticeable difference in expression levels between sexes, which is worth testing in the linear regression model."
   ]
  },
  {
   "cell_type": "markdown",
   "id": "696a7da5-a1a1-475d-8326-014094e2b815",
   "metadata": {},
   "source": [
    "**Identify outliers**"
   ]
  },
  {
   "cell_type": "code",
   "execution_count": 97,
   "id": "75fb4656-3823-42f1-bc0a-b52626ac7d37",
   "metadata": {},
   "outputs": [
    {
     "data": {
      "text/html": [
       "<div>\n",
       "<style scoped>\n",
       "    .dataframe tbody tr th:only-of-type {\n",
       "        vertical-align: middle;\n",
       "    }\n",
       "\n",
       "    .dataframe tbody tr th {\n",
       "        vertical-align: top;\n",
       "    }\n",
       "\n",
       "    .dataframe thead th {\n",
       "        text-align: right;\n",
       "    }\n",
       "</style>\n",
       "<table border=\"1\" class=\"dataframe\">\n",
       "  <thead>\n",
       "    <tr style=\"text-align: right;\">\n",
       "      <th></th>\n",
       "      <th>Gene_id</th>\n",
       "      <th>Gene</th>\n",
       "      <th>Subject_id</th>\n",
       "      <th>Expression</th>\n",
       "      <th>Sex</th>\n",
       "      <th>Age</th>\n",
       "      <th>Death_history</th>\n",
       "      <th>Chromosome</th>\n",
       "      <th>Position</th>\n",
       "      <th>Type</th>\n",
       "    </tr>\n",
       "  </thead>\n",
       "  <tbody>\n",
       "    <tr>\n",
       "      <th>168</th>\n",
       "      <td>ENSG00000103449.11</td>\n",
       "      <td>SALL1</td>\n",
       "      <td>GTEX-14ICL</td>\n",
       "      <td>-2.9552</td>\n",
       "      <td>1</td>\n",
       "      <td>35</td>\n",
       "      <td>0.0</td>\n",
       "      <td>chr16</td>\n",
       "      <td>51151367</td>\n",
       "      <td>protein_coding</td>\n",
       "    </tr>\n",
       "    <tr>\n",
       "      <th>173</th>\n",
       "      <td>ENSG00000103449.11</td>\n",
       "      <td>SALL1</td>\n",
       "      <td>GTEX-14PHX</td>\n",
       "      <td>-2.7344</td>\n",
       "      <td>1</td>\n",
       "      <td>55</td>\n",
       "      <td>0.0</td>\n",
       "      <td>chr16</td>\n",
       "      <td>51151367</td>\n",
       "      <td>protein_coding</td>\n",
       "    </tr>\n",
       "    <tr>\n",
       "      <th>232</th>\n",
       "      <td>ENSG00000103449.11</td>\n",
       "      <td>SALL1</td>\n",
       "      <td>GTEX-1A8G7</td>\n",
       "      <td>-2.9552</td>\n",
       "      <td>1</td>\n",
       "      <td>65</td>\n",
       "      <td>2.0</td>\n",
       "      <td>chr16</td>\n",
       "      <td>51151367</td>\n",
       "      <td>protein_coding</td>\n",
       "    </tr>\n",
       "    <tr>\n",
       "      <th>256</th>\n",
       "      <td>ENSG00000103449.11</td>\n",
       "      <td>SALL1</td>\n",
       "      <td>GTEX-1C6VS</td>\n",
       "      <td>-2.9552</td>\n",
       "      <td>1</td>\n",
       "      <td>65</td>\n",
       "      <td>2.0</td>\n",
       "      <td>chr16</td>\n",
       "      <td>51151367</td>\n",
       "      <td>protein_coding</td>\n",
       "    </tr>\n",
       "    <tr>\n",
       "      <th>382</th>\n",
       "      <td>ENSG00000103449.11</td>\n",
       "      <td>SALL1</td>\n",
       "      <td>GTEX-1JN76</td>\n",
       "      <td>2.7344</td>\n",
       "      <td>2</td>\n",
       "      <td>25</td>\n",
       "      <td>0.0</td>\n",
       "      <td>chr16</td>\n",
       "      <td>51151367</td>\n",
       "      <td>protein_coding</td>\n",
       "    </tr>\n",
       "    <tr>\n",
       "      <th>648</th>\n",
       "      <td>ENSG00000103449.11</td>\n",
       "      <td>SALL1</td>\n",
       "      <td>GTEX-ZVT2</td>\n",
       "      <td>2.9552</td>\n",
       "      <td>2</td>\n",
       "      <td>55</td>\n",
       "      <td>0.0</td>\n",
       "      <td>chr16</td>\n",
       "      <td>51151367</td>\n",
       "      <td>protein_coding</td>\n",
       "    </tr>\n",
       "  </tbody>\n",
       "</table>\n",
       "</div>"
      ],
      "text/plain": [
       "                Gene_id   Gene  Subject_id  Expression  Sex  Age  \\\n",
       "168  ENSG00000103449.11  SALL1  GTEX-14ICL     -2.9552    1   35   \n",
       "173  ENSG00000103449.11  SALL1  GTEX-14PHX     -2.7344    1   55   \n",
       "232  ENSG00000103449.11  SALL1  GTEX-1A8G7     -2.9552    1   65   \n",
       "256  ENSG00000103449.11  SALL1  GTEX-1C6VS     -2.9552    1   65   \n",
       "382  ENSG00000103449.11  SALL1  GTEX-1JN76      2.7344    2   25   \n",
       "648  ENSG00000103449.11  SALL1   GTEX-ZVT2      2.9552    2   55   \n",
       "\n",
       "     Death_history Chromosome  Position            Type  \n",
       "168            0.0      chr16  51151367  protein_coding  \n",
       "173            0.0      chr16  51151367  protein_coding  \n",
       "232            2.0      chr16  51151367  protein_coding  \n",
       "256            2.0      chr16  51151367  protein_coding  \n",
       "382            0.0      chr16  51151367  protein_coding  \n",
       "648            0.0      chr16  51151367  protein_coding  "
      ]
     },
     "execution_count": 97,
     "metadata": {},
     "output_type": "execute_result"
    }
   ],
   "source": [
    "Q1 = gene_df1['Expression'].quantile(0.25)\n",
    "Q3 = gene_df1['Expression'].quantile(0.75)\n",
    "IQR = Q3 - Q1\n",
    "\n",
    "# Define bounds for outliers\n",
    "lower_bound = Q1 - 1.5 * IQR\n",
    "upper_bound = Q3 + 1.5 * IQR\n",
    "\n",
    "# Identify outliers\n",
    "outliers_iqr = gene_df1[(gene_df1['Expression'] < lower_bound) | (gene_df1['Expression'] > upper_bound)]\n",
    "\n",
    "# Display outliers\n",
    "outliers_iqr"
   ]
  },
  {
   "cell_type": "markdown",
   "id": "1feb9be0-a7e7-4717-8de9-2936fdb0dcda",
   "metadata": {},
   "source": [
    "**Keeping the outliers**  \n",
    "\n",
    "* If the outliers represent real biological variability (and not measurement errors or anomalies), they might contain valuable information, \n",
    "  especially in biological data, where extreme values could indicate meaningful biological processes.  \n",
    "\n",
    "* Since the focus is on determining if there's a statistically significant association between SALL1 gene expression and sex, removing these outliers \n",
    "  could distort the biological significance."
   ]
  },
  {
   "cell_type": "markdown",
   "id": "49bbde01-1223-41f4-a41a-987785dbbf83",
   "metadata": {},
   "source": [
    "---"
   ]
  },
  {
   "cell_type": "markdown",
   "id": "0767b138-4e8d-40fe-a320-2d5bc89dec7d",
   "metadata": {},
   "source": [
    "### Build the linear regression model"
   ]
  },
  {
   "cell_type": "code",
   "execution_count": 101,
   "id": "ae0be56c-78d5-47c9-ac73-78caca9a0d9e",
   "metadata": {},
   "outputs": [],
   "source": [
    "# Subset Data\n",
    "lr_df = gene_df1[[\"Expression\", \"Sex\"]]"
   ]
  },
  {
   "cell_type": "markdown",
   "id": "029da5c0-31fd-4433-aff4-825e7582017d",
   "metadata": {},
   "source": [
    "Next, construct the linear regression formula, and save it as a string. The `y or dependent variable` comes before the `~`, and the `x or independent` variable comes after the `~`."
   ]
  },
  {
   "cell_type": "code",
   "execution_count": 103,
   "id": "d80cce48-34f2-43f2-9707-9d4ca6856ea7",
   "metadata": {},
   "outputs": [],
   "source": [
    "# Define the formula\n",
    "ols_formula = 'Expression ~ C(Sex)'"
   ]
  },
  {
   "cell_type": "code",
   "execution_count": 104,
   "id": "0f443493-0c16-4577-9ed4-c28c072be4db",
   "metadata": {},
   "outputs": [],
   "source": [
    "# Build OLS \n",
    "OLS = ols(formula = ols_formula, data = lr_df)"
   ]
  },
  {
   "cell_type": "code",
   "execution_count": 105,
   "id": "a1086c9d-fb5d-4621-ae47-4fb352024cbf",
   "metadata": {},
   "outputs": [],
   "source": [
    "# Fit model to data\n",
    "model = OLS.fit()"
   ]
  },
  {
   "cell_type": "markdown",
   "id": "26ff4a27-f60d-4b84-b263-cc6ce38744cc",
   "metadata": {},
   "source": [
    "* Call the `summary()` function on the `model` object to get the coefficients and more statistics about the model."
   ]
  },
  {
   "cell_type": "code",
   "execution_count": 107,
   "id": "7252524e-317a-47bd-8ef5-071d9af8b8c4",
   "metadata": {},
   "outputs": [
    {
     "data": {
      "text/html": [
       "<table class=\"simpletable\">\n",
       "<caption>OLS Regression Results</caption>\n",
       "<tr>\n",
       "  <th>Dep. Variable:</th>       <td>Expression</td>    <th>  R-squared:         </th> <td>   0.184</td>\n",
       "</tr>\n",
       "<tr>\n",
       "  <th>Model:</th>                   <td>OLS</td>       <th>  Adj. R-squared:    </th> <td>   0.183</td>\n",
       "</tr>\n",
       "<tr>\n",
       "  <th>Method:</th>             <td>Least Squares</td>  <th>  F-statistic:       </th> <td>   149.2</td>\n",
       "</tr>\n",
       "<tr>\n",
       "  <th>Date:</th>             <td>Sun, 13 Oct 2024</td> <th>  Prob (F-statistic):</th> <td>4.41e-31</td>\n",
       "</tr>\n",
       "<tr>\n",
       "  <th>Time:</th>                 <td>14:33:03</td>     <th>  Log-Likelihood:    </th> <td> -878.03</td>\n",
       "</tr>\n",
       "<tr>\n",
       "  <th>No. Observations:</th>      <td>   663</td>      <th>  AIC:               </th> <td>   1760.</td>\n",
       "</tr>\n",
       "<tr>\n",
       "  <th>Df Residuals:</th>          <td>   661</td>      <th>  BIC:               </th> <td>   1769.</td>\n",
       "</tr>\n",
       "<tr>\n",
       "  <th>Df Model:</th>              <td>     1</td>      <th>                     </th>     <td> </td>   \n",
       "</tr>\n",
       "<tr>\n",
       "  <th>Covariance Type:</th>      <td>nonrobust</td>    <th>                     </th>     <td> </td>   \n",
       "</tr>\n",
       "</table>\n",
       "<table class=\"simpletable\">\n",
       "<tr>\n",
       "       <td></td>          <th>coef</th>     <th>std err</th>      <th>t</th>      <th>P>|t|</th>  <th>[0.025</th>    <th>0.975]</th>  \n",
       "</tr>\n",
       "<tr>\n",
       "  <th>Intercept</th>   <td>   -0.3166</td> <td>    0.043</td> <td>   -7.330</td> <td> 0.000</td> <td>   -0.401</td> <td>   -0.232</td>\n",
       "</tr>\n",
       "<tr>\n",
       "  <th>C(Sex)[T.2]</th> <td>    0.9200</td> <td>    0.075</td> <td>   12.214</td> <td> 0.000</td> <td>    0.772</td> <td>    1.068</td>\n",
       "</tr>\n",
       "</table>\n",
       "<table class=\"simpletable\">\n",
       "<tr>\n",
       "  <th>Omnibus:</th>       <td> 3.176</td> <th>  Durbin-Watson:     </th> <td>   1.948</td>\n",
       "</tr>\n",
       "<tr>\n",
       "  <th>Prob(Omnibus):</th> <td> 0.204</td> <th>  Jarque-Bera (JB):  </th> <td>   3.002</td>\n",
       "</tr>\n",
       "<tr>\n",
       "  <th>Skew:</th>          <td>-0.157</td> <th>  Prob(JB):          </th> <td>   0.223</td>\n",
       "</tr>\n",
       "<tr>\n",
       "  <th>Kurtosis:</th>      <td> 3.103</td> <th>  Cond. No.          </th> <td>    2.41</td>\n",
       "</tr>\n",
       "</table><br/><br/>Notes:<br/>[1] Standard Errors assume that the covariance matrix of the errors is correctly specified."
      ],
      "text/latex": [
       "\\begin{center}\n",
       "\\begin{tabular}{lclc}\n",
       "\\toprule\n",
       "\\textbf{Dep. Variable:}    &    Expression    & \\textbf{  R-squared:         } &     0.184   \\\\\n",
       "\\textbf{Model:}            &       OLS        & \\textbf{  Adj. R-squared:    } &     0.183   \\\\\n",
       "\\textbf{Method:}           &  Least Squares   & \\textbf{  F-statistic:       } &     149.2   \\\\\n",
       "\\textbf{Date:}             & Sun, 13 Oct 2024 & \\textbf{  Prob (F-statistic):} &  4.41e-31   \\\\\n",
       "\\textbf{Time:}             &     14:33:03     & \\textbf{  Log-Likelihood:    } &   -878.03   \\\\\n",
       "\\textbf{No. Observations:} &         663      & \\textbf{  AIC:               } &     1760.   \\\\\n",
       "\\textbf{Df Residuals:}     &         661      & \\textbf{  BIC:               } &     1769.   \\\\\n",
       "\\textbf{Df Model:}         &           1      & \\textbf{                     } &             \\\\\n",
       "\\textbf{Covariance Type:}  &    nonrobust     & \\textbf{                     } &             \\\\\n",
       "\\bottomrule\n",
       "\\end{tabular}\n",
       "\\begin{tabular}{lcccccc}\n",
       "                     & \\textbf{coef} & \\textbf{std err} & \\textbf{t} & \\textbf{P$> |$t$|$} & \\textbf{[0.025} & \\textbf{0.975]}  \\\\\n",
       "\\midrule\n",
       "\\textbf{Intercept}   &      -0.3166  &        0.043     &    -7.330  &         0.000        &       -0.401    &       -0.232     \\\\\n",
       "\\textbf{C(Sex)[T.2]} &       0.9200  &        0.075     &    12.214  &         0.000        &        0.772    &        1.068     \\\\\n",
       "\\bottomrule\n",
       "\\end{tabular}\n",
       "\\begin{tabular}{lclc}\n",
       "\\textbf{Omnibus:}       &  3.176 & \\textbf{  Durbin-Watson:     } &    1.948  \\\\\n",
       "\\textbf{Prob(Omnibus):} &  0.204 & \\textbf{  Jarque-Bera (JB):  } &    3.002  \\\\\n",
       "\\textbf{Skew:}          & -0.157 & \\textbf{  Prob(JB):          } &    0.223  \\\\\n",
       "\\textbf{Kurtosis:}      &  3.103 & \\textbf{  Cond. No.          } &     2.41  \\\\\n",
       "\\bottomrule\n",
       "\\end{tabular}\n",
       "%\\caption{OLS Regression Results}\n",
       "\\end{center}\n",
       "\n",
       "Notes: \\newline\n",
       " [1] Standard Errors assume that the covariance matrix of the errors is correctly specified."
      ],
      "text/plain": [
       "<class 'statsmodels.iolib.summary.Summary'>\n",
       "\"\"\"\n",
       "                            OLS Regression Results                            \n",
       "==============================================================================\n",
       "Dep. Variable:             Expression   R-squared:                       0.184\n",
       "Model:                            OLS   Adj. R-squared:                  0.183\n",
       "Method:                 Least Squares   F-statistic:                     149.2\n",
       "Date:                Sun, 13 Oct 2024   Prob (F-statistic):           4.41e-31\n",
       "Time:                        14:33:03   Log-Likelihood:                -878.03\n",
       "No. Observations:                 663   AIC:                             1760.\n",
       "Df Residuals:                     661   BIC:                             1769.\n",
       "Df Model:                           1                                         \n",
       "Covariance Type:            nonrobust                                         \n",
       "===============================================================================\n",
       "                  coef    std err          t      P>|t|      [0.025      0.975]\n",
       "-------------------------------------------------------------------------------\n",
       "Intercept      -0.3166      0.043     -7.330      0.000      -0.401      -0.232\n",
       "C(Sex)[T.2]     0.9200      0.075     12.214      0.000       0.772       1.068\n",
       "==============================================================================\n",
       "Omnibus:                        3.176   Durbin-Watson:                   1.948\n",
       "Prob(Omnibus):                  0.204   Jarque-Bera (JB):                3.002\n",
       "Skew:                          -0.157   Prob(JB):                        0.223\n",
       "Kurtosis:                       3.103   Cond. No.                         2.41\n",
       "==============================================================================\n",
       "\n",
       "Notes:\n",
       "[1] Standard Errors assume that the covariance matrix of the errors is correctly specified.\n",
       "\"\"\""
      ]
     },
     "execution_count": 107,
     "metadata": {},
     "output_type": "execute_result"
    }
   ],
   "source": [
    "model.summary()"
   ]
  },
  {
   "cell_type": "markdown",
   "id": "ab58a9d7-37c8-4955-99b0-4bb154554bc9",
   "metadata": {},
   "source": [
    "### Evaluating the regression model summary"
   ]
  },
  {
   "cell_type": "markdown",
   "id": "4f840a80-b760-4a43-a826-4b010fefea7e",
   "metadata": {},
   "source": [
    "#### 1. Model Overview:\n",
    "- **Dependent Variable**: The dependent variable is **Expression**, which represents the expression levels of the gene SALL1.\n",
    "- **No. Observations**: There are **663** observations in the dataset, meaning 663 samples were used in the analysis.\n",
    "\n",
    "#### 2. Model Fit Statistics:\n",
    "- **R-squared**: **0.184**\n",
    "  - This means that approximately **18.4%** of the variance in the expression levels can be explained by the model. This is relatively low, indicating that other factors not included in the model may also influence expression levels.\n",
    "  \n",
    "- **Adjusted R-squared**: **0.183**\n",
    "  - The adjusted R-squared adjusts the R-squared value for the number of predictors in the model, but since there's only one predictor (Sex), it's very similar to the R-squared value.\n",
    "\n",
    "- **F-statistic**: **149.2**\n",
    "  - This tests the overall significance of the model. A high F-statistic indicates that at least one of the predictors is significantly related to the dependent variable.\n",
    "\n",
    "- **Prob (F-statistic)**: **4.41e-31**\n",
    "  - This is the p-value associated with the F-statistic. A value this low (< 0.05) indicates that the model is statistically significant overall, meaning that the predictor (Sex) has a significant effect on expression levels.\n",
    "\n",
    "#### 3. Coefficients:\n",
    "- **Intercept**: \n",
    "  - **Coef**: **-0.3166**\n",
    "  - **Std Err**: **0.043**\n",
    "  - **t**: **-7.330**\n",
    "  - **P>|t|**: **0.000**\n",
    "  - Interpretation: When Sex is 1 (male), the expected expression level of SALL1 is approximately **-0.3166**. This coefficient is statistically significant (p < 0.001).\n",
    "\n",
    "- **C(Sex)[T.2]**:\n",
    "  - **Coef**: **0.9200**\n",
    "  - **Std Err**: **0.075**\n",
    "  - **t**: **12.214**\n",
    "  - **P>|t|**: **0.000**\n",
    "  - Interpretation: When Sex is 2 (female), the expected expression level of SALL1 increases by **0.9200** compared to males (Sex = 1). This coefficient is also statistically significant (p < 0.001).\n",
    "\n",
    "#### 4. Residual Statistics:\n",
    "- **Omnibus**: **3.176**\n",
    "- **Prob(Omnibus)**: **0.204**\n",
    "  - This tests the normality of residuals. A p-value > 0.05 suggests that the residuals are normally distributed.\n",
    "\n",
    "- **Durbin-Watson**: **1.948**\n",
    "  - This statistic tests for autocorrelation in residuals. Values close to 2 indicate no autocorrelation. This value suggests that autocorrelation is not a concern.\n",
    "\n",
    "- **Jarque-Bera (JB)**: **3.002**\n",
    "- **Prob(JB)**: **0.223**\n",
    "  - This is another test for normality of residuals, supporting that the residuals are normally distributed."
   ]
  },
  {
   "cell_type": "markdown",
   "id": "b420d05a-714c-4d62-b87b-99538d0c5bce",
   "metadata": {},
   "source": [
    "---"
   ]
  },
  {
   "cell_type": "markdown",
   "id": "9009cb79-3d01-4723-a2e0-dff4e2430735",
   "metadata": {},
   "source": [
    "### Finish checking model assumptions"
   ]
  },
  {
   "cell_type": "markdown",
   "id": "c7c5558a-0b07-473f-8c26-f3a0920345a3",
   "metadata": {},
   "source": [
    "The **linearity assumption** for the regression model has been assessed through box plots comparing SALL1 expression levels between males and females. The distinct distributions observed, along with the significant linear regression results (p < 0.001), indicate that the assumption is satisfied when comparing the means of the two groups."
   ]
  },
  {
   "cell_type": "markdown",
   "id": "75b334df-e972-40a0-82dc-425499f6f79b",
   "metadata": {},
   "source": [
    "The **independent observations assumption** is met, as the observations in the dataset represent distinct subjects, ensuring that the measurements of gene expression for each individual do not influence one another."
   ]
  },
  {
   "cell_type": "markdown",
   "id": "7f4a9b74-ccf7-4c3d-85eb-6d4eecb7d812",
   "metadata": {},
   "source": [
    "The **normality and homoscedasticity assumptions** focus on the distribution of errors. Thus, you can only check these assumptions after you have constructed the model.\n",
    "\n",
    "These assumptions pertain to the distribution of residuals in the regression model. Residuals are the differences between the observed expression levels of the SALL1 gene and the predicted values derived from the regression model.\n",
    "\n",
    "By analyzing the residuals, we can evaluate whether they follow a normal distribution and exhibit constant variance across different levels of the independent variable, 'Sex'. These checks are crucial for ensuring the reliability and validity of the regression results, as violations of these assumptions may affect the inferences drawn from the model."
   ]
  },
  {
   "cell_type": "code",
   "execution_count": 115,
   "id": "acd40fdc-78dd-4377-86a0-33ab6f9c8527",
   "metadata": {},
   "outputs": [],
   "source": [
    "# Extract the residuals\n",
    "residuals = model.resid"
   ]
  },
  {
   "cell_type": "code",
   "execution_count": 116,
   "id": "09ae8215-a309-45a5-bbcf-7601060a08dd",
   "metadata": {},
   "outputs": [],
   "source": [
    "# Get the predicted/fitted values\n",
    "predicted_values = model.predict()"
   ]
  },
  {
   "cell_type": "markdown",
   "id": "489bf804-bb9f-466c-9047-13ae7d38bfef",
   "metadata": {},
   "source": [
    "**Check normality of residuals with a Histogram and Q-Q plot**"
   ]
  },
  {
   "cell_type": "code",
   "execution_count": 118,
   "id": "2524a889-71fe-4cde-91ed-69d239afd6bb",
   "metadata": {},
   "outputs": [
    {
     "data": {
      "image/png": "[encoded data removed]",
      "text/plain": [
       "<Figure size 1200x500 with 2 Axes>"
      ]
     },
     "metadata": {},
     "output_type": "display_data"
    }
   ],
   "source": [
    "# Figure size\n",
    "plt.figure(figsize=(12, 5))\n",
    "\n",
    "# Histogram of residuals\n",
    "plt.subplot(1, 2, 1)\n",
    "sns.histplot(residuals, bins=30, kde=True)\n",
    "plt.title('Histogram of Residuals')\n",
    "plt.xlabel('Residuals')\n",
    "plt.ylabel('Frequency')\n",
    "\n",
    "# Q-Q plot\n",
    "plt.subplot(1, 2, 2)\n",
    "sm.qqplot(residuals, line='s', ax=plt.gca())\n",
    "plt.title('Q-Q Plot of Residuals')\n",
    "\n",
    "plt.tight_layout()\n",
    "plt.show()"
   ]
  },
  {
   "cell_type": "markdown",
   "id": "cb5876b6-b490-4aab-857a-89078b4528b3",
   "metadata": {},
   "source": [
    "* **Histogram**: Displays the distribution of residuals, with a kernel density estimate overlay to visualize normality.\n",
    "\n",
    "* **Q-Q Plot**: Compares the quantiles of the residuals against the quantiles of a normal distribution. A straight line indicates that the residuals are normally distributed."
   ]
  },
  {
   "cell_type": "markdown",
   "id": "40d7d299-fdea-42dd-af3f-141ab181908a",
   "metadata": {},
   "source": [
    "**Check homoscedasticity**"
   ]
  },
  {
   "cell_type": "markdown",
   "id": "9033b7e9-65f1-4345-93a7-0aeb2840b17b",
   "metadata": {},
   "source": [
    "Since the independent variable `Sex` is categorical with only two groups (male and female), a scatter plot may not effectively convey the information needed to assess homoscedasticity.  \n",
    "\n",
    "You can create a box plot of the residuals for each category of 'Sex'. This will allow you to visually compare the spread (variability) of residuals between the two groups.\n",
    "\n",
    "If the box plots for the two groups have similar spreads (i.e., the interquartile ranges are comparable), it suggests that the assumption of homoscedasticity is met."
   ]
  },
  {
   "cell_type": "markdown",
   "id": "40ec8c88-0f62-4281-9d7d-3b9d5cb64882",
   "metadata": {},
   "source": [
    "* Box Plot of `Residuals` for each category of `Sex`"
   ]
  },
  {
   "cell_type": "code",
   "execution_count": 197,
   "id": "9497eb09-64ae-4f97-8249-2fd07a9bc92e",
   "metadata": {},
   "outputs": [
    {
     "data": {
      "image/png": "[encoded data removed]",
      "text/plain": [
       "<Figure size 800x500 with 1 Axes>"
      ]
     },
     "metadata": {},
     "output_type": "display_data"
    }
   ],
   "source": [
    "# Create a DataFrame with residuals and sex\n",
    "sex = lr_df['Sex']\n",
    "residuals_df = pd.DataFrame({'Residuals': residuals, 'Sex': sex})\n",
    "\n",
    "# Create box plot\n",
    "plt.figure(figsize=(8, 5))\n",
    "sns.boxplot(x='Sex', y='Residuals', hue='Sex', data=residuals_df)\n",
    "plt.title('Box Plot of Residuals by Sex')\n",
    "plt.xlabel('Sex (1: Male, 2: Female)')\n",
    "plt.ylabel('Residuals')\n",
    "plt.axhline(0, color='red', linestyle='--')  # Line at 0 for reference\n",
    "plt.show()"
   ]
  },
  {
   "cell_type": "markdown",
   "id": "f58b557e-d234-4812-936d-e0bad1ca02e5",
   "metadata": {},
   "source": [
    "The difference in whisker lengths between the male and female boxplots is relatively small, indicating the potential for **minor heteroscedasticity**. However, since the residual spread is fairly consistent between the two categories, any violation of the homoscedasticity assumption is likely minimal and should not significantly impact the model's performance.  \n",
    "\n",
    "The box plot of residuals showing a line that runs through zero for both male and female categories is a positive sign. It indicates that the **residuals are centered around zero** for each group, suggesting that the model is unbiased and that predictions are not systematically higher or lower for either males or females."
   ]
  },
  {
   "cell_type": "markdown",
   "id": "39fdd9d1-a1a4-4b8d-96d2-9f5f66e927f8",
   "metadata": {},
   "source": [
    "A more formal **test for heteroscedasticity**, like the **Breusch-Pagan test**, can be performed to further verify. Minor deviations in heteroscedasticity are common, and if the model's other assumptions hold, it may still be reliable."
   ]
  },
  {
   "cell_type": "code",
   "execution_count": 126,
   "id": "652499a4-5b41-4781-9972-fe440a2b4a54",
   "metadata": {},
   "outputs": [
    {
     "name": "stdout",
     "output_type": "stream",
     "text": [
      "LM statistic: 0.0009914634988262838\n",
      "LM test p-value: 0.9748807500882027\n",
      "F-statistic: 0.0009884741369045166\n",
      "F-test p-value: 0.9749281253036753\n"
     ]
    }
   ],
   "source": [
    "from statsmodels.stats.diagnostic import het_breuschpagan\n",
    "\n",
    "# Perform Breusch-Pagan test\n",
    "lm, lm_pvalue, fvalue, f_pvalue = het_breuschpagan(model.resid, model.model.exog)\n",
    "\n",
    "# Display the results\n",
    "print(f\"LM statistic: {lm}\")\n",
    "print(f\"LM test p-value: {lm_pvalue}\")\n",
    "print(f\"F-statistic: {fvalue}\")\n",
    "print(f\"F-test p-value: {f_pvalue}\")"
   ]
  },
  {
   "cell_type": "markdown",
   "id": "03ff1936-cb84-4efa-a337-b7f005531870",
   "metadata": {},
   "source": [
    "The Breusch-Pagan test results indicate that **heteroscedasticity is not a concern in this model**. The LM test p-value (0.9749) and the F-test p-value (0.9749) are both significantly higher than the common threshold of 0.05, suggesting that the variance of the residuals is constant across the different levels of the predictor. Therefore, the **assumption of homoscedasticity** is upheld, and the model can be considered reliable with respect to this assumption."
   ]
  },
  {
   "cell_type": "markdown",
   "id": "67109268-dbd3-443d-82ae-2d192a0b7bea",
   "metadata": {},
   "source": [
    "### Conclusion:\n",
    "The linear regression analysis revealed a significant association between sex and the expression levels of the gene SALL1. The model produced a **p-value of less than 0.001**, indicating strong statistical significance. Furthermore, the **beta (effect size) for sex was found to be 0.9200**, suggesting that females exhibit, on average, a 0.920 increase in **SALL1** expression compared to males. This indicates a meaningful impact of sex on the expression of this gene.  \n",
    "\n",
    "However, the low R-squared value suggests that other variables might also influence expression levels and should be considered in further analyses.\n",
    "\n",
    "#### Next Steps:\n",
    "- Consider adding other predictors or covariates that could influence gene expression, such as age or death history, in future models to improve the explanatory power of the model.\n",
    "  \n",
    "- Conduct residual analysis to check the assumptions of linear regression, such as homoscedasticity (constant variance of errors) and linearity."
   ]
  }
 ],
 "metadata": {
  "kernelspec": {
   "display_name": "Python 3 (ipykernel)",
   "language": "python",
   "name": "python3"
  },
  "language_info": {
   "codemirror_mode": {
    "name": "ipython",
    "version": 3
   },
   "file_extension": ".py",
   "mimetype": "text/x-python",
   "name": "python",
   "nbconvert_exporter": "python",
   "pygments_lexer": "ipython3",
   "version": "3.9.17"
  }
 },
 "nbformat": 4,
 "nbformat_minor": 5
}
